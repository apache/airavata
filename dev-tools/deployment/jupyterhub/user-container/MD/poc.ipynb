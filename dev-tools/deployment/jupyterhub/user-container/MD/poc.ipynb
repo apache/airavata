{
 "cells": [
  {
   "cell_type": "markdown",
   "metadata": {},
   "source": [
    "# Cybershuttle SDK -  Molecular Dynamics\n",
    "> Define, run, monitor, and analyze molecular dynamics experiments in a HPC-agnostic way.\n",
    "\n",
    "This notebook shows how users can setup and launch a **NAMD** experiment with replicas, monitor its execution, and run analyses both during and after execution."
   ]
  },
  {
   "cell_type": "markdown",
   "metadata": {},
   "source": [
    "## Installing Required Packages\n",
    "\n",
    "First, install the `airavata-python-sdk-test` package from the pip repository."
   ]
  },
  {
   "cell_type": "code",
   "execution_count": null,
   "metadata": {},
   "outputs": [],
   "source": [
    "%pip install --upgrade airavata-python-sdk-test"
   ]
  },
  {
   "cell_type": "markdown",
   "metadata": {},
   "source": [
    "## Importing the SDK"
   ]
  },
  {
   "cell_type": "code",
   "execution_count": null,
   "metadata": {},
   "outputs": [],
   "source": [
    "import airavata_experiments as ae\n",
    "from airavata_experiments import md"
   ]
  },
  {
   "cell_type": "markdown",
   "metadata": {},
   "source": [
    "## Authenticating\n",
    "\n",
    "To authenticate for remote execution, call the `ae.login()` method.\n",
    "This method will prompt you to enter your credentials and authenticate your session."
   ]
  },
  {
   "cell_type": "code",
   "execution_count": null,
   "metadata": {},
   "outputs": [],
   "source": [
    "ae.login()"
   ]
  },
  {
   "cell_type": "markdown",
   "metadata": {},
   "source": [
    "Once authenticated, the `ae.list_runtimes()` function can be called to list HPC resources that the user has access to."
   ]
  },
  {
   "cell_type": "code",
   "execution_count": null,
   "metadata": {},
   "outputs": [],
   "source": [
    "runtimes = ae.list_runtimes()\n",
    "ae.display(runtimes)"
   ]
  },
  {
   "cell_type": "markdown",
   "metadata": {},
   "source": [
    "## Uploading Experiment Files\n",
    "\n",
    "Drag and drop experiment files onto the workspace that this notebook is run on.\n",
    "\n",
    "```bash\n",
    "(sh) $: tree data\n",
    "data\n",
    "├── b4pull.pdb\n",
    "├── b4pull.restart.coor\n",
    "├── b4pull.restart.vel\n",
    "├── b4pull.restart.xsc\n",
    "├── par_all36_water.prm\n",
    "├── par_all36m_prot.prm\n",
    "├── pull.conf\n",
    "├── structure.pdb\n",
    "└── structure.psf\n",
    "\n",
    "1 directory, 9 files\n",
    "\n",
    "```"
   ]
  },
  {
   "cell_type": "markdown",
   "metadata": {},
   "source": [
    "## Defining a NAMD Experiment\n",
    "\n",
    "The `md.NAMD.initialize()` is used to define a NAMD experiment.\n",
    "Here, provide the paths to the `.conf` file, the `.pdb` file, the `.psf` file, any optional files you want to run NAMD on.\n",
    "You can preview the function definition through auto-completion.\n",
    "\n",
    "```python\n",
    "def initialize(\n",
    "    name: str,\n",
    "    config_file: str,\n",
    "    pdb_file: str,\n",
    "    psf_file: str,\n",
    "    ffp_files: list[str],\n",
    "    other_files: list[str] = [],\n",
    "    parallelism: Literal['CPU', 'GPU'] = \"CPU\",\n",
    "    num_replicas: int = 1\n",
    ") -> Experiment[ExperimentApp]\n",
    "```\n",
    "\n",
    "To add replica runs, simply call the `exp.add_replica()` function.\n",
    "You can call the `add_replica()` function as many times as you want replicas.\n",
    "Any optional resource constraint can be provided here.\n",
    "\n",
    "You can also call `ae.display()` to pretty-print the experiment."
   ]
  },
  {
   "cell_type": "code",
   "execution_count": null,
   "metadata": {},
   "outputs": [],
   "source": [
    "exp = md.NAMD.initialize(\n",
    "    name=\"yasith_namd_experiment\",\n",
    "    config_file=\"data/pull_cpu.conf\",\n",
    "    pdb_file=\"data/structure.pdb\",\n",
    "    psf_file=\"data/structure.psf\",\n",
    "    ffp_files=[\n",
    "      \"data/par_all36_water.prm\",\n",
    "      \"data/par_all36m_prot.prm\"\n",
    "    ],\n",
    "    other_files=[\n",
    "      \"data/b4pull.pdb\",\n",
    "      \"data/b4pull.restart.coor\",\n",
    "      \"data/b4pull.restart.vel\",\n",
    "      \"data/b4pull.restart.xsc\",\n",
    "    ],\n",
    "    parallelism=\"CPU\",\n",
    "    num_replicas=1,\n",
    ")\n",
    "exp.add_replica(*ae.list_runtimes(cluster=\"login.expanse.sdsc.edu\", category=\"cpu\"))\n",
    "ae.display(exp)"
   ]
  },
  {
   "cell_type": "markdown",
   "metadata": {},
   "source": [
    "## Creating an Execution Plan\n",
    "\n",
    "Call the `exp.plan()` function to transform the experiment definition + replicas into a stateful execution plan."
   ]
  },
  {
   "cell_type": "code",
   "execution_count": null,
   "metadata": {},
   "outputs": [],
   "source": [
    "plan = exp.plan()\n",
    "ae.display(plan)"
   ]
  },
  {
   "cell_type": "markdown",
   "metadata": {},
   "source": [
    "## Saving the Plan\n",
    "\n",
    "A created plan can be saved locally (in JSON) or remotely (in a user-local DB) for later reference."
   ]
  },
  {
   "cell_type": "code",
   "execution_count": null,
   "metadata": {},
   "outputs": [],
   "source": [
    "plan.save()  # this will save the plan in DB\n",
    "plan.save_json(\"plan.json\")  # save the plan state locally"
   ]
  },
  {
   "cell_type": "markdown",
   "metadata": {},
   "source": [
    "## Launching the Plan\n",
    "\n",
    "A created plan can be launched using the `plan.launch()` function.\n",
    "Changes to plan states will be automatically saved onto the remote.\n",
    "However, plan state can also be tracked locally by invoking `plan.save_json()`."
   ]
  },
  {
   "cell_type": "code",
   "execution_count": null,
   "metadata": {},
   "outputs": [],
   "source": [
    "plan.launch()\n",
    "plan.save_json(\"plan.json\")"
   ]
  },
  {
   "cell_type": "markdown",
   "metadata": {},
   "source": [
    "## Checking the Plan Status\n",
    "The status of a plan can be retrieved by calling `plan.status()`."
   ]
  },
  {
   "cell_type": "code",
   "execution_count": null,
   "metadata": {},
   "outputs": [],
   "source": [
    "plan.status()"
   ]
  },
  {
   "cell_type": "markdown",
   "metadata": {},
   "source": [
    "## Loading a Saved Plan\n",
    "\n",
    "A saved plan can be loaded by calling `ae.plan.load_json(plan_path)` (for local plans) or `ae.plan.load(plan_id)` (for remote plans)."
   ]
  },
  {
   "cell_type": "code",
   "execution_count": null,
   "metadata": {},
   "outputs": [],
   "source": [
    "plan = ae.plan.load_json(\"plan.json\")\n",
    "plan = ae.plan.load(plan.id)\n",
    "plan.status()\n",
    "ae.display(plan)"
   ]
  },
  {
   "cell_type": "markdown",
   "metadata": {},
   "source": [
    "## Fetching User-Defined Plans\n",
    "\n",
    "The `ae.plan.query()` function retrieves all plans stored in the remote."
   ]
  },
  {
   "cell_type": "code",
   "execution_count": null,
   "metadata": {},
   "outputs": [],
   "source": [
    "plans = ae.plan.query()\n",
    "ae.display(plans)"
   ]
  },
  {
   "cell_type": "markdown",
   "metadata": {},
   "source": [
    "## Managing Plan Execution\n",
    "\n",
    "The `plan.stop()` function will stop a currently executing plan.\n",
    "The `plan.wait_for_completion()` function would block until the plan finishes executing."
   ]
  },
  {
   "cell_type": "code",
   "execution_count": null,
   "metadata": {},
   "outputs": [],
   "source": [
    "# plan.stop()\n",
    "plan.wait_for_completion()"
   ]
  },
  {
   "cell_type": "markdown",
   "metadata": {},
   "source": [
    "## Interacting with Files\n",
    "\n",
    "The `task` object has several helper functions to perform file operations within its context.\n",
    "\n",
    "* `task.ls()` - list all remote files (inputs, outputs, logs, etc.)\n",
    "* `task.upload(<local_path>, <remote_path>)` - upload a local file to remote\n",
    "* `task.cat(<remote_path>)` - displays contents of a remote file\n",
    "* `task.download(<remote_path>, <local_path>)` - fetch a remote file to local"
   ]
  },
  {
   "cell_type": "code",
   "execution_count": null,
   "metadata": {},
   "outputs": [],
   "source": [
    "for task in plan.tasks:\n",
    "    print(task.name, task.pid)\n",
    "    # display files\n",
    "    display(task.ls())\n",
    "    # upload a file\n",
    "    task.upload(\"data/sample.txt\")\n",
    "    # preview contents of a file\n",
    "    display(task.cat(\"sample.txt\"))\n",
    "    # download a specific file\n",
    "    task.download(\"sample.txt\", f\"./results_{task.name}\")\n",
    "    # download all files\n",
    "    task.download_all(f\"./results_{task.name}\")"
   ]
  },
  {
   "cell_type": "markdown",
   "metadata": {},
   "source": [
    "## Executing Task-Local Code Remotely\n",
    "\n",
    "The `@task.context()` decorator can be applied on Python functions to run them remotely within the task context.\n",
    "The functions executed this way has access to the task files, as well as the remote compute resources.\n",
    "\n",
    "**NOTE**: Currently, remote code execution is only supported for ongoing tasks. In future updates, we will support both ongoing and completed tasks. Stay tuned!"
   ]
  },
  {
   "cell_type": "code",
   "execution_count": null,
   "metadata": {},
   "outputs": [],
   "source": [
    "for index, task in enumerate(plan.tasks):\n",
    "    @task.context(packages=[\"numpy\", \"pandas\"])\n",
    "    def analyze() -> None:\n",
    "        import numpy as np\n",
    "        with open(\"pull.conf\", \"r\") as f:\n",
    "            data = f.read()\n",
    "        print(\"pull.conf has\", len(data), \"chars\")\n",
    "        print(np.arange(10))\n",
    "    analyze()"
   ]
  }
 ],
 "metadata": {
  "kernelspec": {
   "display_name": "airavata",
   "language": "python",
   "name": "python3"
  },
  "language_info": {
   "codemirror_mode": {
    "name": "ipython",
    "version": 3
   },
   "file_extension": ".py",
   "mimetype": "text/x-python",
   "name": "python",
   "nbconvert_exporter": "python",
   "pygments_lexer": "ipython3",
   "version": "3.12.7"
  }
 },
 "nbformat": 4,
 "nbformat_minor": 2
}
