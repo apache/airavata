{
 "cells": [
  {
   "cell_type": "markdown",
   "metadata": {},
   "source": [
    "# Cybershuttle SDK -  Molecular Dynamics\n",
    "> Define, run, monitor, and analyze molecular dynamics experiments in a HPC-agnostic way.\n",
    "\n",
    "This notebook shows how users can setup and launch a **NAMD** experiment with replicas, monitor its execution, and run analyses both during and after execution."
   ]
  },
  {
   "cell_type": "markdown",
   "metadata": {},
   "source": [
    "## Installing Required Packages\n",
    "\n",
    "First, install the `airavata-python-sdk-test` package from the pip repository."
   ]
  },
  {
   "cell_type": "code",
   "execution_count": null,
   "metadata": {},
   "outputs": [],
   "source": [
    "%pip install -e airavata-api/airavata-client-sdks/airavata-python-sdk"
   ]
  },
  {
   "cell_type": "markdown",
   "metadata": {},
   "source": [
    "## Importing the SDK"
   ]
  },
  {
   "cell_type": "code",
   "execution_count": null,
   "metadata": {},
   "outputs": [],
   "source": [
    "%cd airavata-api/airavata-client-sdks/airavata-python-sdk/samples\n",
    "import airavata_experiments as ae\n",
    "from airavata_experiments import md"
   ]
  },
  {
   "cell_type": "markdown",
   "metadata": {},
   "source": [
    "## Authenticating\n",
    "\n",
    "To authenticate for remote execution, call the `ae.login()` method.\n",
    "This method will prompt you to enter your credentials and authenticate your session."
   ]
  },
  {
   "cell_type": "code",
   "execution_count": null,
   "metadata": {},
   "outputs": [],
   "source": [
    "ae.login()"
   ]
  },
  {
   "cell_type": "markdown",
   "metadata": {},
   "source": [
    "Once authenticated, the `ae.list_runtimes()` function can be called to list HPC resources that the user has access to."
   ]
  },
  {
   "cell_type": "code",
   "execution_count": null,
   "metadata": {},
   "outputs": [],
   "source": [
    "runtimes = ae.list_runtimes()\n",
    "ae.display(runtimes)"
   ]
  },
  {
   "cell_type": "markdown",
   "metadata": {},
   "source": [
    "## Uploading Experiment Files\n",
    "\n",
    "Drag and drop experiment files onto the workspace that this notebook is run on.\n",
    "\n",
    "```bash\n",
    "(sh) $: tree data\n",
    "data\n",
    "├── b4pull.pdb\n",
    "├── b4pull.restart.coor\n",
    "├── b4pull.restart.vel\n",
    "├── b4pull.restart.xsc\n",
    "├── par_all36_water.prm\n",
    "├── par_all36m_prot.prm\n",
    "├── pull.conf\n",
    "├── structure.pdb\n",
    "└── structure.psf\n",
    "\n",
    "1 directory, 9 files\n",
    "\n",
    "```"
   ]
  },
  {
   "cell_type": "markdown",
   "metadata": {},
   "source": [
    "## Defining a NAMD Experiment\n",
    "\n",
    "The `md.NAMD.initialize()` is used to define a NAMD experiment.\n",
    "Here, provide the paths to the `.conf` file, the `.pdb` file, the `.psf` file, any optional files you want to run NAMD on.\n",
    "You can preview the function definition through auto-completion.\n",
    "\n",
    "```python\n",
    "def initialize(\n",
    "    name: str,\n",
    "    config_file: str,\n",
    "    pdb_file: str,\n",
    "    psf_file: str,\n",
    "    ffp_files: list[str],\n",
    "    other_files: list[str] = [],\n",
    "    parallelism: Literal['CPU', 'GPU'] = \"CPU\",\n",
    "    num_replicas: int = 1\n",
    ") -> Experiment[ExperimentApp]\n",
    "```\n",
    "\n",
    "To add replica runs, simply call the `exp.add_replica()` function.\n",
    "You can call the `add_replica()` function as many times as you want replicas.\n",
    "Any optional resource constraint can be provided here.\n",
    "\n",
    "You can also call `ae.display()` to pretty-print the experiment."
   ]
  },
  {
   "cell_type": "code",
   "execution_count": null,
   "metadata": {},
   "outputs": [],
   "source": [
    "exp = md.NAMD.initialize(\n",
    "    name=\"yasith_namd_experiment\",\n",
    "    config_file=\"data/pull.conf\",\n",
    "    pdb_file=\"data/structure.pdb\",\n",
    "    psf_file=\"data/structure.psf\",\n",
    "    ffp_files=[\n",
    "      \"data/par_all36_water.prm\",\n",
    "      \"data/par_all36m_prot.prm\"\n",
    "    ],\n",
    "    other_files=[\n",
    "      \"data/b4pull.pdb\",\n",
    "      \"data/b4pull.restart.coor\",\n",
    "      \"data/b4pull.restart.vel\",\n",
    "      \"data/b4pull.restart.xsc\",\n",
    "    ],\n",
    "    parallelism=\"GPU\",\n",
    ")\n",
    "exp.add_replica()\n",
    "ae.display(exp)"
   ]
  },
  {
   "cell_type": "markdown",
   "metadata": {},
   "source": [
    "## Creating an Execution Plan\n",
    "\n",
    "Call the `exp.plan()` function to transform the experiment definition + replicas into a stateful execution plan."
   ]
  },
  {
   "cell_type": "code",
   "execution_count": null,
   "metadata": {},
   "outputs": [],
   "source": [
    "plan = exp.plan()\n",
    "ae.display(plan)"
   ]
  },
  {
   "cell_type": "markdown",
   "metadata": {},
   "source": [
    "## Saving the Plan\n",
    "\n",
    "A created plan can be saved locally (in JSON) or remotely (in a user-local DB) for later reference."
   ]
  },
  {
   "cell_type": "code",
   "execution_count": null,
   "metadata": {},
   "outputs": [],
   "source": [
    "plan.save()  # this will save the plan in DB\n",
    "plan.save_json(\"plan.json\")  # save the plan state locally"
   ]
  },
  {
   "cell_type": "markdown",
   "metadata": {},
   "source": [
    "## Launching the Plan\n",
    "\n",
    "A created plan can be launched using the `plan.launch()` function.\n",
    "Changes to plan states will be automatically saved onto the remote.\n",
    "However, plan state can also be tracked locally by invoking `plan.save_json()`."
   ]
  },
  {
   "cell_type": "code",
   "execution_count": null,
   "metadata": {},
   "outputs": [],
   "source": [
    "plan.launch()\n",
    "plan.save_json(\"plan.json\")"
   ]
  },
  {
   "cell_type": "markdown",
   "metadata": {},
   "source": [
    "## Loading a Saved Plan\n",
    "\n",
    "A saved plan can be loaded by calling `ae.plan.load_json(plan_path)` (for local plans) or `ae.plan.load(plan_id)` (for remote plans)."
   ]
  },
  {
   "cell_type": "code",
   "execution_count": null,
   "metadata": {},
   "outputs": [],
   "source": [
    "plan = ae.plan.load_json(\"plan.json\")\n",
    "plan = ae.plan.load(plan.id)\n",
    "ae.display(plan)"
   ]
  },
  {
   "cell_type": "markdown",
   "metadata": {},
   "source": [
    "## Fetching User-Defined Plans\n",
    "\n",
    "The `ae.plan.query()` function retrieves all plans stored in the remote."
   ]
  },
  {
   "cell_type": "code",
   "execution_count": null,
   "metadata": {},
   "outputs": [],
   "source": [
    "plans = ae.plan.query()\n",
    "ae.display(plans)"
   ]
  },
  {
   "cell_type": "markdown",
   "metadata": {},
   "source": [
    "## Checking Plan Status\n",
    "\n",
    "The plan's execution status can be checked by calling `plan.status()`."
   ]
  },
  {
   "cell_type": "code",
   "execution_count": null,
   "metadata": {},
   "outputs": [],
   "source": [
    "plan.status()"
   ]
  },
  {
   "cell_type": "markdown",
   "metadata": {},
   "source": [
    "## Managing Plan Execution\n",
    "\n",
    "The `plan.stop()` function will stop a currently executing plan.\n",
    "The `plan.join()` function would block code execution until the plan completes its execution."
   ]
  },
  {
   "cell_type": "code",
   "execution_count": null,
   "metadata": {},
   "outputs": [],
   "source": [
    "plan.stop()\n",
    "plan.join()"
   ]
  },
  {
   "cell_type": "markdown",
   "metadata": {},
   "source": [
    "## Running File Operations"
   ]
  },
  {
   "cell_type": "markdown",
   "metadata": {},
   "source": [
    "Displaying the status and files generated by each replica (task)"
   ]
  },
  {
   "cell_type": "code",
   "execution_count": null,
   "metadata": {},
   "outputs": [],
   "source": [
    "for task in plan.tasks:\n",
    "    status = task.status()\n",
    "    print(status)\n",
    "    # task.upload(\"data/sample.txt\")\n",
    "    files = task.ls()\n",
    "    display(files)\n",
    "    display(task.cat(\"NAMD.stderr\"))\n",
    "    # task.download(\"NAMD.stdout\", \"./results\")\n",
    "    task.download(\"NAMD_Repl_1.out\", \"./results\")"
   ]
  },
  {
   "cell_type": "markdown",
   "metadata": {},
   "source": [
    "Displaying the intermediate results generated by each replica (task)"
   ]
  },
  {
   "cell_type": "code",
   "execution_count": null,
   "metadata": {},
   "outputs": [],
   "source": [
    "for index, task in enumerate(plan.tasks):\n",
    "\n",
    "    @task.context(packages=[\"matplotlib\", \"pandas\"])\n",
    "    def analyze(x, y, index, num_tasks) -> None:\n",
    "        from matplotlib import pyplot as plt\n",
    "        import pandas as pd\n",
    "        df = pd.read_csv(\"data.csv\")\n",
    "        plt.figure(figsize=(x, y))\n",
    "        plt.plot(df[\"x\"], df[\"y\"], marker=\"o\", linestyle=\"-\", linewidth=2, markersize=6)\n",
    "        plt.title(f\"Plot for Replica {index} of {num_tasks}\")\n",
    "\n",
    "    analyze(3, 4, index+1, len(plan.tasks))"
   ]
  }
 ],
 "metadata": {
  "kernelspec": {
   "display_name": "airavata",
   "language": "python",
   "name": "python3"
  },
  "language_info": {
   "codemirror_mode": {
    "name": "ipython",
    "version": 3
   },
   "file_extension": ".py",
   "mimetype": "text/x-python",
   "name": "python",
   "nbconvert_exporter": "python",
   "pygments_lexer": "ipython3",
   "version": "3.12.7"
  }
 },
 "nbformat": 4,
 "nbformat_minor": 2
}
