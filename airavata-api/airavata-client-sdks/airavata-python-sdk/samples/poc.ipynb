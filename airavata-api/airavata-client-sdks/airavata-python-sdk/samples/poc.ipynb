{
 "cells": [
  {
   "cell_type": "markdown",
   "metadata": {},
   "source": [
    "# Airavata Experiment SDK - Molecular Dynamics Example\n",
    "\n",
    "This SDK allows users to define, plan, and execute molecular dynamics experiments with ease.\n",
    "Here we demonstrate how to authenticate, set up a NAMD experiment, add replicas, create an execution plan, and monitor the execution."
   ]
  },
  {
   "cell_type": "markdown",
   "metadata": {},
   "source": [
    "## Install the required packages\n",
    "\n",
    "First, install the `airavata-python-sdk-test` package from the pip repository."
   ]
  },
  {
   "cell_type": "code",
   "execution_count": null,
   "metadata": {},
   "outputs": [],
   "source": [
    "%pip uninstall -y airavata-python-sdk-test\n",
    "%pip cache purge\n",
    "%pip install -e airavata-api/airavata-client-sdks/airavata-python-sdk"
   ]
  },
  {
   "cell_type": "markdown",
   "metadata": {},
   "source": [
    "## Import the Experiments SDK"
   ]
  },
  {
   "cell_type": "code",
   "execution_count": 2,
   "metadata": {},
   "outputs": [
    {
     "name": "stdout",
     "output_type": "stream",
     "text": [
      "/Users/yasith/projects/artisan/airavata/airavata-api/airavata-client-sdks/airavata-python-sdk/samples\n"
     ]
    },
    {
     "name": "stderr",
     "output_type": "stream",
     "text": [
      "using legacy validation callback\n"
     ]
    }
   ],
   "source": [
    "%cd airavata-api/airavata-client-sdks/airavata-python-sdk/samples\n",
    "import airavata_experiments as ae\n",
    "from airavata_experiments import md"
   ]
  },
  {
   "cell_type": "markdown",
   "metadata": {},
   "source": [
    "## Authenticate for Remote Execution\n",
    "\n",
    "To authenticate for remote execution, call the `ae.login()` method.\n",
    "This method will prompt you to enter your credentials and authenticate your session."
   ]
  },
  {
   "cell_type": "code",
   "execution_count": null,
   "metadata": {},
   "outputs": [],
   "source": [
    "ae.login()"
   ]
  },
  {
   "cell_type": "markdown",
   "metadata": {},
   "source": [
    "Once authenticated, the `ae.list_runtimes()` function can be called to list HPC resources that the user can access."
   ]
  },
  {
   "cell_type": "code",
   "execution_count": null,
   "metadata": {},
   "outputs": [],
   "source": [
    "runtimes = ae.list_runtimes()\n",
    "display(runtimes)"
   ]
  },
  {
   "cell_type": "markdown",
   "metadata": {},
   "source": [
    "## Upload Experiment Files\n",
    "\n",
    "Drag and drop experiment files onto the workspace that this notebook is run on.\n",
    "\n",
    "```bash\n",
    "(sh) $: tree data\n",
    "data\n",
    "├── b4pull.pdb\n",
    "├── b4pull.restart.coor\n",
    "├── b4pull.restart.vel\n",
    "├── b4pull.restart.xsc\n",
    "├── par_all36_water.prm\n",
    "├── par_all36m_prot.prm\n",
    "├── pull.conf\n",
    "├── structure.pdb\n",
    "└── structure.psf\n",
    "\n",
    "1 directory, 9 files\n",
    "\n",
    "```"
   ]
  },
  {
   "cell_type": "markdown",
   "metadata": {},
   "source": [
    "## Define a NAMD Experiment\n",
    "\n",
    "The `md.NAMD.initialize()` is used to define a NAMD experiment.\n",
    "Here, provide the paths to the `.conf` file, the `.pdb` file, the `.psf` file, any optional files you want to run NAMD on.\n",
    "You can preview the function definition through auto-completion.\n",
    "\n",
    "```python\n",
    "def initialize(\n",
    "    name: str,\n",
    "    config_file: str,\n",
    "    pdb_file: str,\n",
    "    psf_file: str,\n",
    "    ffp_files: list[str],\n",
    "    other_files: list[str] = [],\n",
    "    parallelism: Literal['CPU', 'GPU'] = \"CPU\",\n",
    "    num_replicas: int = 1\n",
    ") -> Experiment[ExperimentApp]\n",
    "```"
   ]
  },
  {
   "cell_type": "code",
   "execution_count": null,
   "metadata": {},
   "outputs": [],
   "source": [
    "exp = md.NAMD.initialize(\n",
    "    name=\"yasith_namd_experiment\",\n",
    "    config_file=\"data/pull.conf\",\n",
    "    pdb_file=\"data/structure.pdb\",\n",
    "    psf_file=\"data/structure.psf\",\n",
    "    ffp_files=[\n",
    "      \"data/par_all36_water.prm\",\n",
    "      \"data/par_all36m_prot.prm\"\n",
    "    ],\n",
    "    other_files=[\n",
    "      \"data/b4pull.pdb\",\n",
    "      \"data/b4pull.restart.coor\",\n",
    "      \"data/b4pull.restart.vel\",\n",
    "      \"data/b4pull.restart.xsc\",\n",
    "    ],\n",
    "    parallelism=\"GPU\",\n",
    ")"
   ]
  },
  {
   "cell_type": "markdown",
   "metadata": {},
   "source": [
    "To add replica runs, simply call the `exp.add_replica()` function.\n",
    "You can call the `add_replica()` function as many times as you want replicas.\n",
    "Any optional resource constraint can be provided here."
   ]
  },
  {
   "cell_type": "code",
   "execution_count": null,
   "metadata": {},
   "outputs": [],
   "source": [
    "exp.add_replica()"
   ]
  },
  {
   "cell_type": "markdown",
   "metadata": {},
   "source": [
    "## Create Execution Plan\n",
    "\n",
    "Call the `exp.plan()` function to transform the experiment definition + replicas into a stateful execution plan.\n",
    "This plan can be exported in JSON format and imported back."
   ]
  },
  {
   "cell_type": "code",
   "execution_count": null,
   "metadata": {},
   "outputs": [],
   "source": [
    "plan = exp.plan()  # this will create a plan for the experiment\n",
    "plan.describe()  # this will describe the plan"
   ]
  },
  {
   "cell_type": "markdown",
   "metadata": {},
   "source": [
    "## Execute the Plan"
   ]
  },
  {
   "cell_type": "code",
   "execution_count": null,
   "metadata": {},
   "outputs": [],
   "source": [
    "plan.save()  # this will save the plan in DB\n",
    "plan.launch() # this will launch the plan\n",
    "plan.save_json(\"plan.json\") # this will save the plan locally"
   ]
  },
  {
   "cell_type": "markdown",
   "metadata": {},
   "source": [
    "## Load and Describe the Launched Plan"
   ]
  },
  {
   "cell_type": "code",
   "execution_count": null,
   "metadata": {},
   "outputs": [],
   "source": [
    "assert plan.id is not None\n",
    "plan = ae.plan.load(plan.id)\n",
    "plan.describe()"
   ]
  },
  {
   "cell_type": "markdown",
   "metadata": {},
   "source": [
    "## List all Plans the User Created"
   ]
  },
  {
   "cell_type": "code",
   "execution_count": null,
   "metadata": {},
   "outputs": [
    {
     "data": {
      "text/html": [
       "<div>\n",
       "<style scoped>\n",
       "    .dataframe tbody tr th:only-of-type {\n",
       "        vertical-align: middle;\n",
       "    }\n",
       "\n",
       "    .dataframe tbody tr th {\n",
       "        vertical-align: top;\n",
       "    }\n",
       "\n",
       "    .dataframe thead th {\n",
       "        text-align: right;\n",
       "    }\n",
       "</style>\n",
       "<table border=\"1\" class=\"dataframe\">\n",
       "  <thead>\n",
       "    <tr style=\"text-align: right;\">\n",
       "      <th></th>\n",
       "      <th>id</th>\n",
       "    </tr>\n",
       "  </thead>\n",
       "  <tbody>\n",
       "    <tr>\n",
       "      <th>0</th>\n",
       "      <td>16781b12-fd99-496c-b815-c0fdc5889664</td>\n",
       "    </tr>\n",
       "    <tr>\n",
       "      <th>1</th>\n",
       "      <td>2a09f1c4-8a0a-46e4-bbdd-ffab13be3d5b</td>\n",
       "    </tr>\n",
       "    <tr>\n",
       "      <th>2</th>\n",
       "      <td>2a7896fa-5898-42f6-92b6-c053e4a702ba</td>\n",
       "    </tr>\n",
       "    <tr>\n",
       "      <th>3</th>\n",
       "      <td>2e206dab-ada7-45a6-a2ea-940adf9ef646</td>\n",
       "    </tr>\n",
       "    <tr>\n",
       "      <th>4</th>\n",
       "      <td>4fb8a73b-8333-4c73-8e74-5dd103f8a22f</td>\n",
       "    </tr>\n",
       "    <tr>\n",
       "      <th>5</th>\n",
       "      <td>5197d68c-63ec-4d13-bac5-24484e1d0ca6</td>\n",
       "    </tr>\n",
       "    <tr>\n",
       "      <th>6</th>\n",
       "      <td>54b9dcd6-a5e8-4a05-9690-aacd346de55c</td>\n",
       "    </tr>\n",
       "    <tr>\n",
       "      <th>7</th>\n",
       "      <td>562a195e-83f9-4de4-af5b-c43b4a2a40f6</td>\n",
       "    </tr>\n",
       "    <tr>\n",
       "      <th>8</th>\n",
       "      <td>768d97d5-233b-4450-a7e3-4df31f1fac3c</td>\n",
       "    </tr>\n",
       "    <tr>\n",
       "      <th>9</th>\n",
       "      <td>82814692-63fa-48e1-9e26-78b75269f513</td>\n",
       "    </tr>\n",
       "    <tr>\n",
       "      <th>10</th>\n",
       "      <td>ae70b7d2-294e-44c1-b2d7-8586642e241e</td>\n",
       "    </tr>\n",
       "    <tr>\n",
       "      <th>11</th>\n",
       "      <td>af3a2094-5bb3-4452-a9c3-45451bfd23cb</td>\n",
       "    </tr>\n",
       "    <tr>\n",
       "      <th>12</th>\n",
       "      <td>b82ae820-93bc-4e26-b080-2563824a1c5b</td>\n",
       "    </tr>\n",
       "    <tr>\n",
       "      <th>13</th>\n",
       "      <td>c51d01a2-4b57-47c7-a4d2-91a8ede53c77</td>\n",
       "    </tr>\n",
       "    <tr>\n",
       "      <th>14</th>\n",
       "      <td>d5db8cc0-76da-4435-9509-3a5733c41d7e</td>\n",
       "    </tr>\n",
       "    <tr>\n",
       "      <th>15</th>\n",
       "      <td>d6e5e9f0-dc11-4262-b16a-51fef7be42c1</td>\n",
       "    </tr>\n",
       "    <tr>\n",
       "      <th>16</th>\n",
       "      <td>d763f645-2f8f-460e-9e83-4a98365508eb</td>\n",
       "    </tr>\n",
       "    <tr>\n",
       "      <th>17</th>\n",
       "      <td>eff68e72-c585-4066-a8a0-d36cc45f648c</td>\n",
       "    </tr>\n",
       "    <tr>\n",
       "      <th>18</th>\n",
       "      <td>fcc54603-aa0b-4ca7-89ac-c04d0725f4cb</td>\n",
       "    </tr>\n",
       "  </tbody>\n",
       "</table>\n",
       "</div>"
      ],
      "text/plain": [
       "                                      id\n",
       "0   16781b12-fd99-496c-b815-c0fdc5889664\n",
       "1   2a09f1c4-8a0a-46e4-bbdd-ffab13be3d5b\n",
       "2   2a7896fa-5898-42f6-92b6-c053e4a702ba\n",
       "3   2e206dab-ada7-45a6-a2ea-940adf9ef646\n",
       "4   4fb8a73b-8333-4c73-8e74-5dd103f8a22f\n",
       "5   5197d68c-63ec-4d13-bac5-24484e1d0ca6\n",
       "6   54b9dcd6-a5e8-4a05-9690-aacd346de55c\n",
       "7   562a195e-83f9-4de4-af5b-c43b4a2a40f6\n",
       "8   768d97d5-233b-4450-a7e3-4df31f1fac3c\n",
       "9   82814692-63fa-48e1-9e26-78b75269f513\n",
       "10  ae70b7d2-294e-44c1-b2d7-8586642e241e\n",
       "11  af3a2094-5bb3-4452-a9c3-45451bfd23cb\n",
       "12  b82ae820-93bc-4e26-b080-2563824a1c5b\n",
       "13  c51d01a2-4b57-47c7-a4d2-91a8ede53c77\n",
       "14  d5db8cc0-76da-4435-9509-3a5733c41d7e\n",
       "15  d6e5e9f0-dc11-4262-b16a-51fef7be42c1\n",
       "16  d763f645-2f8f-460e-9e83-4a98365508eb\n",
       "17  eff68e72-c585-4066-a8a0-d36cc45f648c\n",
       "18  fcc54603-aa0b-4ca7-89ac-c04d0725f4cb"
      ]
     },
     "metadata": {},
     "output_type": "display_data"
    }
   ],
   "source": [
    "import pandas as pd\n",
    "plans = ae.plan.query()\n",
    "display(pd.DataFrame([plan.model_dump(include={\"id\"}) for plan in plans]))"
   ]
  },
  {
   "cell_type": "markdown",
   "metadata": {},
   "source": [
    "## Check Plan Status"
   ]
  },
  {
   "cell_type": "code",
   "execution_count": null,
   "metadata": {},
   "outputs": [],
   "source": [
    "plan.status()"
   ]
  },
  {
   "cell_type": "markdown",
   "metadata": {},
   "source": [
    "## Block Until Plan Completes"
   ]
  },
  {
   "cell_type": "code",
   "execution_count": null,
   "metadata": {},
   "outputs": [],
   "source": [
    "plan.join()"
   ]
  },
  {
   "cell_type": "markdown",
   "metadata": {},
   "source": [
    "## Stop Plan Execution"
   ]
  },
  {
   "cell_type": "code",
   "execution_count": null,
   "metadata": {},
   "outputs": [],
   "source": [
    "plan.stop()"
   ]
  },
  {
   "cell_type": "markdown",
   "metadata": {},
   "source": [
    "## Run File Operations on Plan"
   ]
  },
  {
   "cell_type": "markdown",
   "metadata": {},
   "source": [
    "Displaying the status and files generated by each replica (task)"
   ]
  },
  {
   "cell_type": "code",
   "execution_count": null,
   "metadata": {},
   "outputs": [],
   "source": [
    "for task in plan.tasks:\n",
    "    status = task.status()\n",
    "    print(status)\n",
    "    # task.upload(\"data/sample.txt\")\n",
    "    files = task.ls()\n",
    "    display(files)\n",
    "    display(task.cat(\"NAMD.stderr\"))\n",
    "    # task.download(\"NAMD.stdout\", \"./results\")\n",
    "    task.download(\"NAMD_Repl_1.out\", \"./results\")"
   ]
  },
  {
   "cell_type": "markdown",
   "metadata": {},
   "source": [
    "Displaying the intermediate results generated by each replica (task)"
   ]
  },
  {
   "cell_type": "code",
   "execution_count": null,
   "metadata": {},
   "outputs": [],
   "source": [
    "for index, task in enumerate(plan.tasks):\n",
    "\n",
    "    @task.context(packages=[\"matplotlib\", \"pandas\"])\n",
    "    def analyze(x, y, index, num_tasks) -> None:\n",
    "        from matplotlib import pyplot as plt\n",
    "        import pandas as pd\n",
    "        df = pd.read_csv(\"data.csv\")\n",
    "        plt.figure(figsize=(x, y))\n",
    "        plt.plot(df[\"x\"], df[\"y\"], marker=\"o\", linestyle=\"-\", linewidth=2, markersize=6)\n",
    "        plt.title(f\"Plot for Replica {index} of {num_tasks}\")\n",
    "\n",
    "    analyze(3, 4, index+1, len(plan.tasks))"
   ]
  }
 ],
 "metadata": {
  "kernelspec": {
   "display_name": "airavata",
   "language": "python",
   "name": "python3"
  },
  "language_info": {
   "codemirror_mode": {
    "name": "ipython",
    "version": 3
   },
   "file_extension": ".py",
   "mimetype": "text/x-python",
   "name": "python",
   "nbconvert_exporter": "python",
   "pygments_lexer": "ipython3",
   "version": "3.12.7"
  }
 },
 "nbformat": 4,
 "nbformat_minor": 2
}
