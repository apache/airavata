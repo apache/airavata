{
 "cells": [
  {
   "cell_type": "code",
   "execution_count": 40,
   "id": "e520a5ea-847a-4237-a0a8-e52deb0b2c0d",
   "metadata": {},
   "outputs": [],
   "source": [
    "from IPython.core.magic import register_cell_magic\n",
    "from IPython.core.magic import register_line_magic\n",
    "\n",
    "import time\n",
    "import requests\n",
    "import json\n",
    "import time"
   ]
  },
  {
   "cell_type": "code",
   "execution_count": 41,
   "id": "c5c591cb-7f0f-47ab-a9fa-4700161439c2",
   "metadata": {},
   "outputs": [],
   "source": [
    "@register_cell_magic\n",
    "def run_remote(line, cell):\n",
    "    url = 'http://localhost:18880/api/v1/agent/executejupyterrequest'\n",
    "\n",
    "    data = {\n",
    "        \"sessionId\": \"session1\",\n",
    "        \"keepAlive\": True,\n",
    "        \"code\": cell,\n",
    "        \"agentId\": \"agent3\"\n",
    "    }\n",
    "\n",
    "    json_data = json.dumps(data)    \n",
    "    response = requests.post(url, headers={'Content-Type': 'application/json'}, data=json_data)\n",
    "    execution_resp = response.json()\n",
    "    execution_id = execution_resp[\"executionId\"]\n",
    "    error = execution_resp[\"error\"]\n",
    "    if error:\n",
    "        print(\"Cell execution failed. Error: \" + error)\n",
    "    if execution_id:\n",
    "        while True:\n",
    "            url = \"http://localhost:18880/api/v1/agent/executejupyterresponse/\" + execution_id\n",
    "            response = requests.get(url, headers={'Accept': 'application/json'})\n",
    "            json_response = response.json()\n",
    "            #print(json_response)\n",
    "            if json_response['available']:\n",
    "                result_str = json_response['responseString']\n",
    "                result = json.loads(result_str)\n",
    "                if 'result' in result:\n",
    "                    print(result['result'])\n",
    "                elif 'error' in result:\n",
    "                    print(result['error']['ename'])\n",
    "                    print(result['error']['evalue'])\n",
    "                    print(result['error']['traceback'])\n",
    "                break\n",
    "            time.sleep(1)\n",
    "\n",
    "@register_line_magic\n",
    "def init_remote(line):\n",
    "    print(f\"Your input: {line}\")\n",
    "\n",
    "@register_line_magic\n",
    "def terminate_remote(line):\n",
    "    print(f\"Your input: {line}\")"
   ]
  },
  {
   "cell_type": "code",
   "execution_count": 6,
   "id": "5c43ee08-39fc-4e44-a3f6-9f7ba372d201",
   "metadata": {},
   "outputs": [
    {
     "name": "stdout",
     "output_type": "stream",
     "text": [
      "Collecting airavata-jupyter-magic==0.5\n",
      "  Obtaining dependency information for airavata-jupyter-magic==0.5 from https://files.pythonhosted.org/packages/12/1b/f7214be1a74520d1af8f7810ade38b0346f74b8ccf998eb0586a77b4e636/airavata_jupyter_magic-0.5-py3-none-any.whl.metadata\n",
      "  Downloading airavata_jupyter_magic-0.5-py3-none-any.whl.metadata (994 bytes)\n",
      "Downloading airavata_jupyter_magic-0.5-py3-none-any.whl (7.6 kB)\n",
      "Installing collected packages: airavata-jupyter-magic\n",
      "  Attempting uninstall: airavata-jupyter-magic\n",
      "    Found existing installation: airavata-jupyter-magic 0.4\n",
      "    Uninstalling airavata-jupyter-magic-0.4:\n",
      "      Successfully uninstalled airavata-jupyter-magic-0.4\n",
      "Successfully installed airavata-jupyter-magic-0.5\n",
      "\n",
      "\u001b[1m[\u001b[0m\u001b[34;49mnotice\u001b[0m\u001b[1;39;49m]\u001b[0m\u001b[39;49m A new release of pip is available: \u001b[0m\u001b[31;49m23.2.1\u001b[0m\u001b[39;49m -> \u001b[0m\u001b[32;49m24.1.2\u001b[0m\n",
      "\u001b[1m[\u001b[0m\u001b[34;49mnotice\u001b[0m\u001b[1;39;49m]\u001b[0m\u001b[39;49m To update, run: \u001b[0m\u001b[32;49mpip install --upgrade pip\u001b[0m\n"
     ]
    }
   ],
   "source": [
    "! pip install airavata-jupyter-magic==0.5"
   ]
  },
  {
   "cell_type": "code",
   "execution_count": 7,
   "id": "4c04f9ef-161c-4eb5-bd60-78a68ef614ac",
   "metadata": {},
   "outputs": [
    {
     "name": "stdout",
     "output_type": "stream",
     "text": [
      "The airavata_jupyter_magic module is not an IPython extension.\n"
     ]
    }
   ],
   "source": [
    "%load_ext airavata_jupyter_magic"
   ]
  },
  {
   "cell_type": "code",
   "execution_count": 2,
   "id": "9e969c05-fbf9-4eca-9b83-d1c62429a13b",
   "metadata": {},
   "outputs": [
    {
     "name": "stderr",
     "output_type": "stream",
     "text": [
      "UsageError: Line magic function `%init_remote` not found.\n"
     ]
    }
   ],
   "source": [
    "%init_remote cluster=jetstream cpu=2 memory=2GB"
   ]
  },
  {
   "cell_type": "code",
   "execution_count": 48,
   "id": "4e60d84a-2a81-4b04-9dcb-dea48c4228b8",
   "metadata": {},
   "outputs": [
    {
     "name": "stdout",
     "output_type": "stream",
     "text": [
      "70\n",
      "\n"
     ]
    }
   ],
   "source": [
    "%%run_remote\n",
    "# Your code here\n",
    "a = 10 + a\n",
    "print(a)"
   ]
  },
  {
   "cell_type": "code",
   "execution_count": 35,
   "id": "ebd549f1-3a5d-47e3-876d-beb91d971ac2",
   "metadata": {},
   "outputs": [
    {
     "name": "stdout",
     "output_type": "stream",
     "text": [
      "\n"
     ]
    }
   ],
   "source": [
    "%%run_remote\n",
    "b = 20"
   ]
  },
  {
   "cell_type": "code",
   "execution_count": 38,
   "id": "01b350f1-dc56-4434-86c1-0ff024cc589d",
   "metadata": {},
   "outputs": [
    {
     "name": "stdout",
     "output_type": "stream",
     "text": [
      "Requirement already satisfied: numpy in ./jupyter/venv/lib/python3.11/site-packages (2.0.0)\n",
      "\n",
      "\u001b[1m[\u001b[0m\u001b[34;49mnotice\u001b[0m\u001b[1;39;49m]\u001b[0m\u001b[39;49m A new release of pip is available: \u001b[0m\u001b[31;49m23.2.1\u001b[0m\u001b[39;49m -> \u001b[0m\u001b[32;49m24.1.2\u001b[0m\n",
      "\u001b[1m[\u001b[0m\u001b[34;49mnotice\u001b[0m\u001b[1;39;49m]\u001b[0m\u001b[39;49m To update, run: \u001b[0m\u001b[32;49mpip install --upgrade pip\u001b[0m\n",
      "\n"
     ]
    }
   ],
   "source": [
    "%%run_remote cluster=jetstream cpu=2 memory=2GB\n",
    "!pip install numpy"
   ]
  },
  {
   "cell_type": "code",
   "execution_count": 43,
   "id": "4acff051-2148-45d6-bb4e-c3cabb1a162c",
   "metadata": {},
   "outputs": [
    {
     "name": "stdout",
     "output_type": "stream",
     "text": [
      "Your input: \n"
     ]
    }
   ],
   "source": [
    "%terminate_remote"
   ]
  },
  {
   "cell_type": "code",
   "execution_count": null,
   "id": "ad0cb710-d4f7-490e-a7b6-a8d97a3f45ed",
   "metadata": {},
   "outputs": [],
   "source": []
  }
 ],
 "metadata": {
  "kernelspec": {
   "display_name": "Python 3 (ipykernel)",
   "language": "python",
   "name": "python3"
  },
  "language_info": {
   "codemirror_mode": {
    "name": "ipython",
    "version": 3
   },
   "file_extension": ".py",
   "mimetype": "text/x-python",
   "name": "python",
   "nbconvert_exporter": "python",
   "pygments_lexer": "ipython3",
   "version": "3.11.5"
  }
 },
 "nbformat": 4,
 "nbformat_minor": 5
}
