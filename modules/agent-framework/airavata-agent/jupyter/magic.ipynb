{
 "cells": [
  {
   "cell_type": "code",
   "execution_count": 1,
   "id": "e520a5ea-847a-4237-a0a8-e52deb0b2c0d",
   "metadata": {},
   "outputs": [],
   "source": [
    "from IPython.core.magic import register_cell_magic\n",
    "from IPython.core.magic import register_line_magic\n",
    "\n",
    "import time\n",
    "import requests\n",
    "import json\n",
    "import time"
   ]
  },
  {
   "cell_type": "code",
   "execution_count": 53,
   "id": "c5c591cb-7f0f-47ab-a9fa-4700161439c2",
   "metadata": {},
   "outputs": [],
   "source": [
    "from IPython.display import display, Image\n",
    "import base64\n",
    "\n",
    "@register_cell_magic\n",
    "def run_remote(line, cell):\n",
    "    url = 'http://scigap02.sciencegateways.iu.edu:18880/api/v1/agent/executejupyterrequest'\n",
    "\n",
    "    data = {\n",
    "        \"sessionId\": \"session1\",\n",
    "        \"keepAlive\": True,\n",
    "        \"code\": cell,\n",
    "        \"agentId\": \"agent1991\"\n",
    "    }\n",
    "\n",
    "    json_data = json.dumps(data)    \n",
    "    response = requests.post(url, headers={'Content-Type': 'application/json'}, data=json_data)\n",
    "    execution_resp = response.json()\n",
    "    execution_id = execution_resp[\"executionId\"]\n",
    "    error = execution_resp[\"error\"]\n",
    "    if error:\n",
    "        print(\"Cell execution failed. Error: \" + error)\n",
    "    if execution_id:\n",
    "        while True:\n",
    "            url = \"http://scigap02.sciencegateways.iu.edu:18880/api/v1/agent/executejupyterresponse/\" + execution_id\n",
    "            response = requests.get(url, headers={'Accept': 'application/json'})\n",
    "            json_response = response.json()\n",
    "            #print(json_response)\n",
    "            if json_response['available']:\n",
    "                result_str = json_response['responseString']\n",
    "                result = json.loads(result_str)\n",
    "                if 'result' in result:\n",
    "                    print(result['result'])\n",
    "                elif 'error' in result:\n",
    "                    print(result['error']['ename'])\n",
    "                    print(result['error']['evalue'])\n",
    "                    print(result['error']['traceback'])\n",
    "                elif 'display' in result:\n",
    "                    display_obj = result['display']\n",
    "                    if 'data' in display_obj:\n",
    "                        data_obj = display_obj['data']\n",
    "                        if 'image/png' in data_obj:\n",
    "                            image_data = data_obj['image/png']\n",
    "                            display(Image(data=base64.b64decode(image_data), format='png'))\n",
    "                break\n",
    "            time.sleep(1)\n",
    "\n",
    "@register_line_magic\n",
    "def init_remote(line):\n",
    "    print(f\"Your input: {line}\")\n",
    "    pairs = line.split()\n",
    "\n",
    "    # Initialize variable to store the cluster value\n",
    "    cluster_value = None\n",
    "    \n",
    "    # Iterate through the pairs to find the cluster value\n",
    "    for pair in pairs:\n",
    "        if pair.startswith(\"cluster=\"):\n",
    "            cluster_value = pair.split(\"=\")[1]\n",
    "            break\n",
    "    \n",
    "    # Print the cluster value\n",
    "    if cluster_value:\n",
    "        print(f\"Cluster value: {cluster_value}\")\n",
    "\n",
    "    \n",
    "\n",
    "@register_line_magic\n",
    "def terminate_remote(line):\n",
    "    print(f\"Your input: {line}\")"
   ]
  },
  {
   "cell_type": "code",
   "execution_count": 51,
   "id": "9e969c05-fbf9-4eca-9b83-d1c62429a13b",
   "metadata": {},
   "outputs": [
    {
     "name": "stdout",
     "output_type": "stream",
     "text": [
      "Your input: cluster=jetstream cpu=2 memory=2GB\n",
      "Cluster value: jetstream\n"
     ]
    }
   ],
   "source": [
    "%init_remote cluster=jetstream cpu=2 memory=2GB queue=shared walltime=60"
   ]
  },
  {
   "cell_type": "code",
   "execution_count": 59,
   "id": "4e60d84a-2a81-4b04-9dcb-dea48c4228b8",
   "metadata": {},
   "outputs": [
    {
     "name": "stdout",
     "output_type": "stream",
     "text": [
      "10\n",
      "\n"
     ]
    }
   ],
   "source": [
    "%%run_remote\n",
    "# Your code here\n",
    "a = 10\n",
    "print(a)"
   ]
  },
  {
   "cell_type": "code",
   "execution_count": 60,
   "id": "ebd549f1-3a5d-47e3-876d-beb91d971ac2",
   "metadata": {},
   "outputs": [
    {
     "data": {
      "image/png": "[encoded data removed]",
      "text/plain": [
       "<IPython.core.display.Image object>"
      ]
     },
     "metadata": {},
     "output_type": "display_data"
    }
   ],
   "source": [
    "%%run_remote\n",
    "import matplotlib.pyplot as plt\n",
    "\n",
    "# Sample data\n",
    "x = [1, 2, 3, 4, 5]\n",
    "y = [2, 3, 5, 7, 11]\n",
    "\n",
    "# Create the plot\n",
    "plt.plot(x, y)\n",
    "\n",
    "# Add a title and labels\n",
    "plt.title('Simple Line Plot')\n",
    "plt.xlabel('X Axis')\n",
    "plt.ylabel('Y Axis')\n",
    "\n",
    "# Show the plot\n",
    "plt.show()"
   ]
  },
  {
   "cell_type": "code",
   "execution_count": 57,
   "id": "a946bee5-384b-4883-9753-e5d2bf162d39",
   "metadata": {},
   "outputs": [
    {
     "name": "stdout",
     "output_type": "stream",
     "text": [
      "Requirement already satisfied: matplotlib in /usr/local/lib/python3.12/site-packages (3.9.1)\n",
      "Requirement already satisfied: contourpy>=1.0.1 in /usr/local/lib/python3.12/site-packages (from matplotlib) (1.2.1)\n",
      "Requirement already satisfied: cycler>=0.10 in /usr/local/lib/python3.12/site-packages (from matplotlib) (0.12.1)\n",
      "Requirement already satisfied: fonttools>=4.22.0 in /usr/local/lib/python3.12/site-packages (from matplotlib) (4.53.1)\n",
      "Requirement already satisfied: kiwisolver>=1.3.1 in /usr/local/lib/python3.12/site-packages (from matplotlib) (1.4.5)\n",
      "Requirement already satisfied: numpy>=1.23 in /usr/local/lib/python3.12/site-packages (from matplotlib) (2.0.0)\n",
      "Requirement already satisfied: packaging>=20.0 in /usr/local/lib/python3.12/site-packages (from matplotlib) (24.1)\n",
      "Requirement already satisfied: pillow>=8 in /usr/local/lib/python3.12/site-packages (from matplotlib) (10.4.0)\n",
      "Requirement already satisfied: pyparsing>=2.3.1 in /usr/local/lib/python3.12/site-packages (from matplotlib) (3.1.2)\n",
      "Requirement already satisfied: python-dateutil>=2.7 in /usr/local/lib/python3.12/site-packages (from matplotlib) (2.9.0.post0)\n",
      "Requirement already satisfied: six>=1.5 in /usr/local/lib/python3.12/site-packages (from python-dateutil>=2.7->matplotlib) (1.16.0)\n",
      "\u001b[33mWARNING: Running pip as the 'root' user can result in broken permissions and conflicting behaviour with the system package manager. It is recommended to use a virtual environment instead: https://pip.pypa.io/warnings/venv\u001b[0m\u001b[33m\n",
      "\u001b[0m\n",
      "\u001b[1m[\u001b[0m\u001b[34;49mnotice\u001b[0m\u001b[1;39;49m]\u001b[0m\u001b[39;49m A new release of pip is available: \u001b[0m\u001b[31;49m24.0\u001b[0m\u001b[39;49m -> \u001b[0m\u001b[32;49m24.1.2\u001b[0m\n",
      "\u001b[1m[\u001b[0m\u001b[34;49mnotice\u001b[0m\u001b[1;39;49m]\u001b[0m\u001b[39;49m To update, run: \u001b[0m\u001b[32;49mpip install --upgrade pip\u001b[0m\n",
      "\n"
     ]
    }
   ],
   "source": [
    "%%run_remote\n",
    "!pip3 install matplotlib\n"
   ]
  },
  {
   "cell_type": "code",
   "execution_count": 38,
   "id": "01b350f1-dc56-4434-86c1-0ff024cc589d",
   "metadata": {},
   "outputs": [
    {
     "name": "stdout",
     "output_type": "stream",
     "text": [
      "Requirement already satisfied: numpy in ./jupyter/venv/lib/python3.11/site-packages (2.0.0)\n",
      "\n",
      "\u001b[1m[\u001b[0m\u001b[34;49mnotice\u001b[0m\u001b[1;39;49m]\u001b[0m\u001b[39;49m A new release of pip is available: \u001b[0m\u001b[31;49m23.2.1\u001b[0m\u001b[39;49m -> \u001b[0m\u001b[32;49m24.1.2\u001b[0m\n",
      "\u001b[1m[\u001b[0m\u001b[34;49mnotice\u001b[0m\u001b[1;39;49m]\u001b[0m\u001b[39;49m To update, run: \u001b[0m\u001b[32;49mpip install --upgrade pip\u001b[0m\n",
      "\n"
     ]
    }
   ],
   "source": [
    "%%run_remote cluster=jetstream cpu=2 memory=2GB\n",
    "!pip install numpy"
   ]
  },
  {
   "cell_type": "code",
   "execution_count": 43,
   "id": "4acff051-2148-45d6-bb4e-c3cabb1a162c",
   "metadata": {},
   "outputs": [
    {
     "name": "stdout",
     "output_type": "stream",
     "text": [
      "Your input: \n"
     ]
    }
   ],
   "source": [
    "%terminate_remote"
   ]
  },
  {
   "cell_type": "code",
   "execution_count": null,
   "id": "ad0cb710-d4f7-490e-a7b6-a8d97a3f45ed",
   "metadata": {},
   "outputs": [],
   "source": []
  }
 ],
 "metadata": {
  "kernelspec": {
   "display_name": "Python 3 (ipykernel)",
   "language": "python",
   "name": "python3"
  },
  "language_info": {
   "codemirror_mode": {
    "name": "ipython",
    "version": 3
   },
   "file_extension": ".py",
   "mimetype": "text/x-python",
   "name": "python",
   "nbconvert_exporter": "python",
   "pygments_lexer": "ipython3",
   "version": "3.11.5"
  }
 },
 "nbformat": 4,
 "nbformat_minor": 5
}
