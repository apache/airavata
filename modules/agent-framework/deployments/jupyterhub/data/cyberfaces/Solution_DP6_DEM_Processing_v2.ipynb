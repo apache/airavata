{
 "cells": [
  {
   "cell_type": "markdown",
   "metadata": {},
   "source": [
    "## <span style=\"color:green\"><h1><center>DEM Processing</center></h1></span>\n",
    "<center>Prepared by <br>\n",
    "    <b>Jibin Joseph and Venkatesh Merwade</b><br> \n",
    "Lyles School of Civil Engineering, Purdue University<br>\n",
    "joseph57@purdue.edu, vmerwade@purdue.edu<br>\n",
    "<b><br>\n",
    "    FAIR Science in Water Resources</b><br></center>\n"
   ]
  },
  {
   "cell_type": "markdown",
   "metadata": {},
   "source": [
    "## <span style=\"color:green\">Objective</span>\n",
    "<p style='text-align: justify;'> The objective of this tutorial is to learn how to merge, project, and clip the DEM raster files. We will use the downloaded DEM raster files from USGS National Elevation Dataset from previous DEM Downloading module.</p> "
   ]
  },
  {
   "cell_type": "markdown",
   "metadata": {},
   "source": [
    "## <span style=\"color:green\"> Data Source </span>\n",
    "\n",
    "<p style='text-align: justify;'>USGS 1/3 arc second DEM</p>"
   ]
  },
  {
   "cell_type": "markdown",
   "metadata": {},
   "source": [
    "## <span style=\"color:green\">Overview of steps </span>\n",
    "<ol type=\"1\">\n",
    "    <span style=\"color:red\"><li>Read and plot original files</li></span>\n",
    "    <span style=\"color:red\"><li>Merge or Mosaick the the original files (not needed if only one raster sile is downloaded)</li></span>\n",
    "     <span style=\"color:red\"><li>Reproject or Transform coordinate system fro Goegraphic to Projected Coordinate System</li></span>\n",
    "    <span style=\"color:red\"><li>Clipping or Masking the reprojected raster file</li></span>\n",
    "\n"
   ]
  },
  {
   "cell_type": "markdown",
   "metadata": {},
   "source": [
    "## <span style=\"color:green\">Import the packages/modules required for this exercise</span>\n",
    "\n",
    "We need different packages as shown below. It can be either installed using pip method or conda method.\n"
   ]
  },
  {
   "cell_type": "code",
   "execution_count": 1,
   "metadata": {},
   "outputs": [
    {
     "name": "stdout",
     "output_type": "stream",
     "text": [
      "\n",
      "Loaded airavata_jupyter_magic\n",
      "(current runtime = local)\n",
      "\n",
      "  %authenticate                      -- Authenticate to access high-performance runtimes.\n",
      "  %request_runtime <rt> [args]       -- Request a runtime named <rt> with configuration <args>. Call multiple times to request multiple runtimes.\n",
      "  %stop_runtime <rt>                 -- Stop runtime <rt> when no longer needed.\n",
      "  %switch_runtime <rt>               -- Switch active runtime to <rt>. All subsequent executions will use this runtime.\n",
      "  %%run_on <rt>                      -- Force a cell to always execute on <rt>, regardless of the active runtime.\n",
      "  %copy_data <r1:file1> <r2:file2>   -- Copy <file1> in <r1> to <file2> in <r2>.\n",
      "\n",
      "\n",
      "User code: CRRQ-PFFQ\n",
      "Please authenticate by visiting: https://auth.cybershuttle.org/realms/default/device?user_code=CRRQ-PFFQ\n",
      "Authorization pending, retrying...\n",
      "Received access token\n",
      "Requested runtime=test_cpu. state=14\n",
      "Switched to runtime=test_cpu.\n"
     ]
    }
   ],
   "source": [
    "# %pip install airavata-jupyter-magic\n",
    "import airavata_jupyter_magic\n",
    "\n",
    "%authenticate\n",
    "%request_runtime test_cpu --cluster=Anvil --cpus=4 --memory=4096 --walltime=10 --queue=shared --group=CyberFaCES\n",
    "%switch_runtime test_cpu"
   ]
  },
  {
   "cell_type": "code",
   "execution_count": 1,
   "metadata": {
    "tags": []
   },
   "outputs": [
    {
     "name": "stdout",
     "output_type": "stream",
     "text": [
      "Runtime=test_cpu is ready!\n"
     ]
    }
   ],
   "source": [
    "## Import the modules/packages/libraries required\n",
    "import math\n",
    "import matplotlib.pyplot as plt\n",
    "import os\n",
    "\n",
    "from pynhd import NLDI\n",
    "import rasterio\n",
    "import rasterio.plot\n",
    "\n",
    "import geopandas # for reading the shapefile\n",
    "\n",
    "## Merging/ Mosaicking\n",
    "from rasterio.merge import merge\n",
    "\n",
    "## Reprojecting\n",
    "from rasterio.warp import calculate_default_transform, reproject, Resampling\n",
    "import pyproj\n",
    "\n",
    "## Clipping\n",
    "from rasterio.mask import mask\n",
    "from shapely.geometry import mapping\n",
    "import geopandas as gpd\n",
    "from shapely.geometry import Polygon\n"
   ]
  },
  {
   "cell_type": "code",
   "execution_count": 1,
   "metadata": {
    "tags": []
   },
   "outputs": [
    {
     "name": "stdout",
     "output_type": "stream",
     "text": [
      "Runtime=test_cpu is ready!\n",
      "1.3.8\n",
      "0.14.4\n",
      "3.6.1\n"
     ]
    }
   ],
   "source": [
    "print(rasterio.__version__)\n",
    "print(geopandas.__version__)\n",
    "print(pyproj.__version__)"
   ]
  },
  {
   "cell_type": "markdown",
   "metadata": {},
   "source": [
    "## <span style=\"color:green\">Step 1: Define the variables and plot unmerged raster files</span> \n",
    "<ul>\n",
    "<li>Variables: <span style=\"color:red\">USGS Site, resolution, directories, extents</span></li>\n",
    "<li>Plot Unmerged files: <span style=\"color:red\">using rasterio plot</span></li>"
   ]
  },
  {
   "cell_type": "code",
   "execution_count": 1,
   "metadata": {
    "tags": []
   },
   "outputs": [
    {
     "name": "stdout",
     "output_type": "stream",
     "text": [
      "Runtime=test_cpu is ready!\n"
     ]
    },
    {
     "data": {
      "text/html": [
       "\n",
       "                <div style=\"\n",
       "                    color: #a71d5d;\n",
       "                    background-color: #fdd;\n",
       "                    border: 1px solid #a71d5d;\n",
       "                    padding: 5px;\n",
       "                    border-radius: 5px;\n",
       "                    font-family: Consolas, 'Courier New', monospace;\n",
       "                \">\n",
       "                    <pre><strong>DriverError: ./input_03335500/shape_03335500.shp: No such file or directory</strong>\n",
       "                ---------------------------------------------------------------------------\n",
       "CPLE_OpenFailedError                      Traceback (most recent call last)\n",
       "File fiona/ogrext.pyx:136, in fiona.ogrext.gdal_open_vector()\n",
       "\n",
       "File fiona/_err.pyx:291, in fiona._err.exc_wrap_pointer()\n",
       "\n",
       "CPLE_OpenFailedError: ./input_03335500/shape_03335500.shp: No such file or directory\n",
       "\n",
       "During handling of the above exception, another exception occurred:\n",
       "\n",
       "DriverError                               Traceback (most recent call last)\n",
       "Cell In[3], line 13\n",
       "     11 dem_files_store= folder_input\n",
       "     12 ##Read the shapefile using geopandas\n",
       "---> 13 watershed =geopandas.read_file(f'{folder_input}/shape_{site_id}.shp')\n",
       "     14 ## Get the extents and number of tiles downloaded\n",
       "     15 extents_basin=watershed.total_bounds\n",
       "\n",
       "File /opt/conda/lib/python3.11/site-packages/geopandas/io/file.py:289, in _read_file(filename, bbox, mask, rows, engine, **kwargs)\n",
       "    286     else:\n",
       "    287         path_or_bytes = filename\n",
       "--> 289     return _read_file_fiona(\n",
       "    290         path_or_bytes, from_bytes, bbox=bbox, mask=mask, rows=rows, **kwargs\n",
       "    291     )\n",
       "    293 else:\n",
       "    294     raise ValueError(f\"unknown engine '{engine}'\")\n",
       "\n",
       "File /opt/conda/lib/python3.11/site-packages/geopandas/io/file.py:315, in _read_file_fiona(path_or_bytes, from_bytes, bbox, mask, rows, where, **kwargs)\n",
       "    312     reader = fiona.open\n",
       "    314 with fiona_env():\n",
       "--> 315     with reader(path_or_bytes, **kwargs) as features:\n",
       "    316         crs = features.crs_wkt\n",
       "    317         # attempt to get EPSG code\n",
       "\n",
       "File /opt/conda/lib/python3.11/site-packages/fiona/env.py:457, in ensure_env_with_credentials.<locals>.wrapper(*args, **kwds)\n",
       "    454     session = DummySession()\n",
       "    456 with env_ctor(session=session):\n",
       "--> 457     return f(*args, **kwds)\n",
       "\n",
       "File /opt/conda/lib/python3.11/site-packages/fiona/__init__.py:292, in open(fp, mode, driver, schema, crs, encoding, layer, vfs, enabled_drivers, crs_wkt, allow_unsupported_drivers, **kwargs)\n",
       "    289     path = parse_path(fp)\n",
       "    291 if mode in (\"a\", \"r\"):\n",
       "--> 292     colxn = Collection(\n",
       "    293         path,\n",
       "    294         mode,\n",
       "    295         driver=driver,\n",
       "    296         encoding=encoding,\n",
       "    297         layer=layer,\n",
       "    298         enabled_drivers=enabled_drivers,\n",
       "    299         allow_unsupported_drivers=allow_unsupported_drivers,\n",
       "    300         **kwargs\n",
       "    301     )\n",
       "    302 elif mode == \"w\":\n",
       "    303     colxn = Collection(\n",
       "    304         path,\n",
       "    305         mode,\n",
       "   (...)\n",
       "    314         **kwargs\n",
       "    315     )\n",
       "\n",
       "File /opt/conda/lib/python3.11/site-packages/fiona/collection.py:243, in Collection.__init__(self, path, mode, driver, schema, crs, encoding, layer, vsi, archive, enabled_drivers, crs_wkt, ignore_fields, ignore_geometry, include_fields, wkt_version, allow_unsupported_drivers, **kwargs)\n",
       "    241 if self.mode == \"r\":\n",
       "    242     self.session = Session()\n",
       "--> 243     self.session.start(self, **kwargs)\n",
       "    244 elif self.mode in (\"a\", \"w\"):\n",
       "    245     self.session = WritingSession()\n",
       "\n",
       "File fiona/ogrext.pyx:588, in fiona.ogrext.Session.start()\n",
       "\n",
       "File fiona/ogrext.pyx:143, in fiona.ogrext.gdal_open_vector()\n",
       "\n",
       "DriverError: ./input_03335500/shape_03335500.shp: No such file or directory\n",
       "</pre></div>"
      ],
      "text/plain": [
       "<IPython.core.display.HTML object>"
      ]
     },
     "metadata": {},
     "output_type": "display_data"
    }
   ],
   "source": [
    "## Few variables from previous DEM Access Modules\n",
    "#site_id ='04180000' #two raster files to cover the entire watershed\n",
    "#site_id='03343000' # WABASH RIVER AT VINCENNES, IN - 13907 sq mi\n",
    "#site_id='03335500'\n",
    "\n",
    "# site_id='14183000'\n",
    "site_id='03335500'\n",
    "resolution='1'\n",
    "folder_input=f'./input_{site_id}'\n",
    "# dem_files_store=f'{folder_input}/raw_{site_id}'\n",
    "dem_files_store= folder_input\n",
    "##Read the shapefile using geopandas\n",
    "watershed =geopandas.read_file(f'{folder_input}/shape_{site_id}.shp')\n",
    "## Get the extents and number of tiles downloaded\n",
    "extents_basin=watershed.total_bounds\n",
    "extent_left=abs(math.floor(extents_basin[0]))\n",
    "extent_right=abs(math.floor(extents_basin[2]))\n",
    "extent_bottom=abs(math.ceil(extents_basin[1]))\n",
    "extent_top=abs(math.ceil(extents_basin[3]))\n",
    "num_tiles_download=(((extent_left+1)-extent_right)*((extent_top+1)-extent_bottom))\n",
    "## Define a empty list to hold lon and lat pair\n",
    "overlap_lonlat=[]\n",
    "\n",
    "## Create a for loop to create a rectangular boundary and see if overlaps with watershed\n",
    "for lon in (range(extent_right,extent_left+1,1)):\n",
    "    for lat in (range(extent_bottom,extent_top+1,1)):\n",
    "        ## Defining in anticlockwise direction\n",
    "        corner_left_bottom=(-lon,lat-1)\n",
    "        corner_right_bottom=(-lon+1,lat-1)\n",
    "        corner_right_top=(-lon+1,lat)\n",
    "        corner_left_top=(-lon,lat)\n",
    "        \n",
    "        # Create a polygon from the coordinates\n",
    "        rectangular_boundary = Polygon([corner_left_bottom,corner_right_bottom,corner_right_top,corner_left_top])\n",
    "\n",
    "        # Create a GeoDataFrame\n",
    "        rectangular_gdf = gpd.GeoDataFrame(geometry=[rectangular_boundary])\n",
    "        \n",
    "        # Set the coordinate reference system (CRS) if needed\n",
    "        # Example: gdf.crs = {'init': 'epsg:4326'}  # WGS84\n",
    "\n",
    "        rectangular_gdf.crs = watershed.crs\n",
    "\n",
    "        # Perform the overlay operation to find the intersection\n",
    "        intersection = gpd.overlay(watershed, rectangular_gdf, how='intersection')\n",
    "\n",
    "        # Check if there's any intersection\n",
    "        if not intersection.empty:\n",
    "            #print(\"The rectangular polygon overlaps with the shapefile.\")\n",
    "            overlap_lonlat.append((lon,lat))\n",
    "        #else:\n",
    "        #    print(\"The rectangular polygon does not overlap with the shapefile.\")       \n",
    "\n",
    "print(\"The required lon and lat pairs are: \\n\",overlap_lonlat)\n",
    "\n",
    "## Calulate the number of tiles to be downloaded from USGS\n",
    "num_tiles_download=(((extent_left+1)-extent_right)*((extent_top+1)-extent_bottom))\n",
    "print(f\"\\nNumber of tiles required to cover the entire region: {num_tiles_download}\")\n",
    "print(f\"Left: {extent_left}, Right: {extent_right}, Bottom: {extent_bottom}, Top: {extent_top}\")\n",
    "\n",
    "print(f\"\\nNumber of tiles within watershed boundary: {len(overlap_lonlat)}\")\n",
    "\n",
    "if (len(overlap_lonlat)>1):\n",
    "    title=f\"Unmerged Raster DEMs\\n (USGS: {site_id})\"\n",
    "else:\n",
    "    title=f\"Single Raster DEM\\n (USGS: {site_id})\"\n",
    "\n",
    "\n",
    "\n",
    "## Plotting\n",
    "\n",
    "fig, ax = plt.subplots(figsize=(8, 8))\n",
    "for location in overlap_lonlat:\n",
    "        usgs_filename=f'n{location[1]:02d}w{location[0]:03d}'\n",
    "        ## WRITE THE CODE BELOW\n",
    "        local_raster_filename=fr'{dem_files_store}/USGS_{resolution}_{usgs_filename}.tif'\n",
    "        raster = rasterio.open(local_raster_filename)\n",
    "        rasterio.plot.show(raster,\n",
    "                           ax=ax,\n",
    "                           cmap='viridis')\n",
    "        #print(f'lat: {lat},lon: {lon},file:{local_fileloc_filename}')\n",
    "watershed.plot(ax=ax, \n",
    "           facecolor='none', \n",
    "           edgecolor='red')\n",
    "plt.title(title)\n",
    "plt.xlabel(\"Longitude (DD)\")\n",
    "plt.ylabel(\"Longitude (DD)\")\n",
    "\n",
    "\n",
    "## Free up memory\n",
    "del raster\n",
    "del fig,ax"
   ]
  },
  {
   "cell_type": "markdown",
   "metadata": {},
   "source": [
    "## <span style=\"color:green\">Step 2: Merging the raster</span> \n",
    "\n",
    "<ul>\n",
    "<li>Input: <span style=\"color:red\">Downloaded raster tiles</span></li>\n",
    "<li>Output: <span style=\"color:red\">Merged raster tile</span></li>"
   ]
  },
  {
   "cell_type": "markdown",
   "metadata": {
    "deletable": false
   },
   "source": [
    "## <span style=\"color:green\">Step 2a: Create folder for saving the intermediate files</span>\n",
    "    "
   ]
  },
  {
   "cell_type": "code",
   "execution_count": 1,
   "metadata": {
    "tags": []
   },
   "outputs": [
    {
     "name": "stdout",
     "output_type": "stream",
     "text": [
      "Runtime=test_cpu is ready!\n",
      "The new directory \u001b[1m'./input_03335500/intermediate_03335500'\u001b[0m is created!\n",
      "The new directory \u001b[1m'./input_03335500/results_03335500'\u001b[0m is created!\n"
     ]
    }
   ],
   "source": [
    "def check_create_path_func(path):\n",
    "    isExist = os.path.exists(path)\n",
    "    if not isExist:\n",
    "        # Create a new directory because it does not exist\n",
    "        os.makedirs(path)\n",
    "        print(f\"The new directory \\033[1m'{path}'\\033[0m is created!\")\n",
    "    else:\n",
    "        print(f\"The new directory \\033[1m'{path}'\\033[0m is not created as it already exists!\")      \n",
    "## Create the a folder for intermediate raster files \n",
    "folder_intermediate=f'{folder_input}/intermediate_{site_id}'\n",
    "check_create_path_func(folder_intermediate)\n",
    "folder_results=f'{folder_input}/results_{site_id}'\n",
    "check_create_path_func(folder_results)"
   ]
  },
  {
   "cell_type": "markdown",
   "metadata": {},
   "source": [
    "## <span style=\"color:green\">Step 2b: Merging the rasters (if required)</span>\n",
    "\n",
    "<ul>\n",
    "<li> Define a function for merging the raster files </li>\n",
    "<li> Create a filename for saving the merged raster files </li>\n",
    "<li> Call the defined function merging the rasters</li>"
   ]
  },
  {
   "cell_type": "code",
   "execution_count": 1,
   "metadata": {
    "tags": []
   },
   "outputs": [
    {
     "name": "stdout",
     "output_type": "stream",
     "text": [
      "Runtime=test_cpu is ready!\n"
     ]
    },
    {
     "data": {
      "text/html": [
       "\n",
       "                <div style=\"\n",
       "                    color: #a71d5d;\n",
       "                    background-color: #fdd;\n",
       "                    border: 1px solid #a71d5d;\n",
       "                    padding: 5px;\n",
       "                    border-radius: 5px;\n",
       "                    font-family: Consolas, 'Courier New', monospace;\n",
       "                \">\n",
       "                    <pre><strong>NameError: name 'num_tiles_download' is not defined</strong>\n",
       "                ---------------------------------------------------------------------------\n",
       "NameError                                 Traceback (most recent call last)\n",
       "Cell In[5], line 48\n",
       "     42     del mosaic_new_raster\n",
       "     47 ## WRITE THE CODE BELOW \n",
       "---> 48 if num_tiles_download==1:\n",
       "     49     merged_raster_filename=f'{dem_files_store}/USGS_{resolution}_{usgs_filename}.tif'\n",
       "     50     print(\"No need to merge as only one tiff file\")\n",
       "\n",
       "NameError: name 'num_tiles_download' is not defined\n",
       "</pre></div>"
      ],
      "text/plain": [
       "<IPython.core.display.HTML object>"
      ]
     },
     "metadata": {},
     "output_type": "display_data"
    }
   ],
   "source": [
    "def merge_dem_raster_func(input_foldername, output_filename):\n",
    "    ## Get a list of all DEM files in the input folder\n",
    "    dem_files = [f for f in os.listdir(input_foldername) if f.startswith(f\"USGS_{resolution}_\")]\n",
    "    ## Create a list to store the raster datasets\n",
    "    datasets = []\n",
    "    ## Open each DEM file and append it to the datasets list\n",
    "    for dem_file in dem_files:\n",
    "        file_path = os.path.join(input_foldername, dem_file)\n",
    "        src = rasterio.open(file_path)\n",
    "        datasets.append(src)\n",
    "    ## Merge the raster datasets into a single mosaic and return ndarray and information on mapping the pixel coordinates\n",
    "    mosaic_new_raster, mosaic_transform = merge(datasets,\n",
    "                                                resampling=Resampling.nearest,\n",
    "                                                method='first',\n",
    "                                                target_aligned_pixels=False\n",
    "                                               )\n",
    "    ## Copy the metadata from one of the datasets (assuming they all have the same metadata)\n",
    "    out_meta = datasets[0].meta.copy()\n",
    "    \n",
    "    #print(\"Before\",out_meta)\n",
    "    out_meta.update({\n",
    "        'height': mosaic_new_raster.shape[1],\n",
    "        'width': mosaic_new_raster.shape[2],\n",
    "        'transform': mosaic_transform ## copy the transform parameter from merge\n",
    "    })\n",
    "    #print(\"After\",out_meta)\n",
    "    \n",
    "    #print(\"Dataset-0\",datasets[0].meta.copy())\n",
    "    #print(\"Dataset-1\",datasets[1].meta.copy())\n",
    "    #print(\"Dataset-2\",datasets[2].meta.copy())\n",
    "    #print(\"Dataset-3\",datasets[3].meta.copy())\n",
    "    #print(\"Dataset-4\",datasets[4].meta.copy())\n",
    "    #print(\"Dataset-5\",datasets[5].meta.copy())\n",
    "    \n",
    "    # Write the mosaic to the output file\n",
    "    with rasterio.open(output_filename, 'w', **out_meta) as dest:\n",
    "        dest.write(mosaic_new_raster)\n",
    "    ## Close all the opened datasets\n",
    "    for dataset in datasets:\n",
    "        dataset.close()\n",
    "    print(f\"Merging completed for {len(overlap_lonlat)} DEM raster files\")\n",
    "    del mosaic_new_raster\n",
    "\n",
    "\n",
    "\n",
    "\n",
    "## WRITE THE CODE BELOW \n",
    "if num_tiles_download==1:\n",
    "    merged_raster_filename=f'{dem_files_store}/USGS_{resolution}_{usgs_filename}.tif'\n",
    "    print(\"No need to merge as only one tiff file\")\n",
    "    title_4_plot=f\"Original DEM Raster (Merging not required) in {watershed.crs} Geographic CRS\\n(for USGS {site_id})\"\n",
    "else:\n",
    "    merged_raster_filename=f'{folder_intermediate}/merged_{resolution}_{site_id}.tif'\n",
    "    merge_dem_raster_func(dem_files_store, merged_raster_filename)\n",
    "    title_4_plot=f\"Merged DEM Raster in {watershed.crs} Geographic CRS\\n(for USGS {site_id})\""
   ]
  },
  {
   "cell_type": "code",
   "execution_count": 1,
   "metadata": {},
   "outputs": [
    {
     "name": "stdout",
     "output_type": "stream",
     "text": [
      "Runtime=test_cpu is ready!\n",
      "'dem_files = [f for f in os.listdir(dem_files_store) if f.startswith(f\"USGS_{resolution}_\")]\\n#print(dem_files)\\n## Create a list to store the raster datasets\\ndatasets = []\\n## Open each DEM file and append it to the datasets list\\nfor dem_file in dem_files:\\n    file_path = os.path.join(dem_files_store, dem_file)\\n    src = rasterio.open(file_path)\\n    datasets.append(src)\\n#print(datasets)\\n## Merge the raster datasets into a single mosaic\\nmosaic, out_trans = merge(datasets)\\nprint(type(mosaic))\\nprint(out_trans)\\nprint(type(out_trans))'\n"
     ]
    }
   ],
   "source": [
    "\"\"\"dem_files = [f for f in os.listdir(dem_files_store) if f.startswith(f\"USGS_{resolution}_\")]\n",
    "#print(dem_files)\n",
    "## Create a list to store the raster datasets\n",
    "datasets = []\n",
    "## Open each DEM file and append it to the datasets list\n",
    "for dem_file in dem_files:\n",
    "    file_path = os.path.join(dem_files_store, dem_file)\n",
    "    src = rasterio.open(file_path)\n",
    "    datasets.append(src)\n",
    "#print(datasets)\n",
    "## Merge the raster datasets into a single mosaic\n",
    "mosaic, out_trans = merge(datasets)\n",
    "print(type(mosaic))\n",
    "print(out_trans)\n",
    "print(type(out_trans))\"\"\""
   ]
  },
  {
   "cell_type": "code",
   "execution_count": 1,
   "metadata": {
    "tags": []
   },
   "outputs": [
    {
     "name": "stdout",
     "output_type": "stream",
     "text": [
      "Runtime=test_cpu is ready!\n"
     ]
    },
    {
     "data": {
      "text/html": [
       "\n",
       "                <div style=\"\n",
       "                    color: #a71d5d;\n",
       "                    background-color: #fdd;\n",
       "                    border: 1px solid #a71d5d;\n",
       "                    padding: 5px;\n",
       "                    border-radius: 5px;\n",
       "                    font-family: Consolas, 'Courier New', monospace;\n",
       "                \">\n",
       "                    <pre><strong>NameError: name 'merged_raster_filename' is not defined</strong>\n",
       "                ---------------------------------------------------------------------------\n",
       "NameError                                 Traceback (most recent call last)\n",
       "Cell In[7], line 1\n",
       "----> 1 with rasterio.open(merged_raster_filename) as src:\n",
       "      2     print(src)\n",
       "      3     fig, ax = plt.subplots(figsize = (8,8))\n",
       "\n",
       "NameError: name 'merged_raster_filename' is not defined\n",
       "</pre></div>"
      ],
      "text/plain": [
       "<IPython.core.display.HTML object>"
      ]
     },
     "metadata": {},
     "output_type": "display_data"
    }
   ],
   "source": [
    "with rasterio.open(merged_raster_filename) as src:\n",
    "    print(src)\n",
    "    fig, ax = plt.subplots(figsize = (8,8))\n",
    "    mapped=rasterio.plot.show(src,\n",
    "                              ax=ax, \n",
    "                              cmap='viridis')\n",
    "    im = mapped.get_images()[0]\n",
    "    fig.colorbar(im,\n",
    "                 ax=ax,\n",
    "                 shrink=0.5,\n",
    "                 label='Elevation (in meters)',\n",
    "                 location='right',\n",
    "                 orientation='vertical')\n",
    "    ax.set_xlabel(\"Longitude (DD)\")\n",
    "    ax.set_ylabel(\"Latitude (DD)\")\n",
    "    ax.set_title(title_4_plot)\n",
    "    \n",
    "watershed.plot(ax=ax, \n",
    "           facecolor='none', \n",
    "           edgecolor='red')\n",
    "src.close()\n",
    "del mapped,im\n",
    "del fig,ax"
   ]
  },
  {
   "cell_type": "markdown",
   "metadata": {},
   "source": [
    "## <span style=\"color:green\">Step 3: Reproject both shapefile and the raster to PCS from GCS</span>\n",
    "\n",
    "<ul>\n",
    "<li> Find the UTM Zone for Projected Coordinate System using the centroid point </li>\n",
    "<li> Project the merged dem </li>"
   ]
  },
  {
   "cell_type": "code",
   "execution_count": 1,
   "metadata": {
    "tags": []
   },
   "outputs": [
    {
     "name": "stdout",
     "output_type": "stream",
     "text": [
      "Runtime=test_cpu is ready!\n"
     ]
    },
    {
     "data": {
      "text/html": [
       "\n",
       "                <div style=\"\n",
       "                    color: #a71d5d;\n",
       "                    background-color: #fdd;\n",
       "                    border: 1px solid #a71d5d;\n",
       "                    padding: 5px;\n",
       "                    border-radius: 5px;\n",
       "                    font-family: Consolas, 'Courier New', monospace;\n",
       "                \">\n",
       "                    <pre><strong>NameError: name 'watershed' is not defined</strong>\n",
       "                ---------------------------------------------------------------------------\n",
       "NameError                                 Traceback (most recent call last)\n",
       "Cell In[8], line 2\n",
       "      1 ## Find if basin has a projection\n",
       "----> 2 print(watershed.crs)\n",
       "\n",
       "NameError: name 'watershed' is not defined\n",
       "</pre></div>"
      ],
      "text/plain": [
       "<IPython.core.display.HTML object>"
      ]
     },
     "metadata": {},
     "output_type": "display_data"
    }
   ],
   "source": [
    "## Find if basin has a projection\n",
    "print(watershed.crs)"
   ]
  },
  {
   "cell_type": "markdown",
   "metadata": {},
   "source": [
    "## <span style=\"color:green\">Step 3a: Finding the UTM Zone</span>\n",
    "\n",
    "<ul>\n",
    "<li> Find the approximate centroid </li>    \n",
    "<li> Find whether the centroid is in N or S </li>\n",
    "<li> Calculate the zone value (below calculations applciable to conterminous US) </li>\n"
   ]
  },
  {
   "cell_type": "code",
   "execution_count": 1,
   "metadata": {
    "tags": []
   },
   "outputs": [
    {
     "name": "stdout",
     "output_type": "stream",
     "text": [
      "Runtime=test_cpu is ready!\n"
     ]
    },
    {
     "data": {
      "text/html": [
       "\n",
       "                <div style=\"\n",
       "                    color: #a71d5d;\n",
       "                    background-color: #fdd;\n",
       "                    border: 1px solid #a71d5d;\n",
       "                    padding: 5px;\n",
       "                    border-radius: 5px;\n",
       "                    font-family: Consolas, 'Courier New', monospace;\n",
       "                \">\n",
       "                    <pre><strong>NameError: name 'watershed' is not defined</strong>\n",
       "                ---------------------------------------------------------------------------\n",
       "NameError                                 Traceback (most recent call last)\n",
       "Cell In[9], line 2\n",
       "      1 ## Find the approximate centroid\n",
       "----> 2 df=watershed\n",
       "      3 df['geometry'].centroid\n",
       "      4 ## Find the center point\n",
       "\n",
       "NameError: name 'watershed' is not defined\n",
       "</pre></div>"
      ],
      "text/plain": [
       "<IPython.core.display.HTML object>"
      ]
     },
     "metadata": {},
     "output_type": "display_data"
    }
   ],
   "source": [
    "## Find the approximate centroid\n",
    "df=watershed\n",
    "df['geometry'].centroid\n",
    "## Find the center point\n",
    "df['Center_point'] = df['geometry'].centroid\n",
    "## Extract lat and lon from the centerpoint\n",
    "df[\"lon\"] = df.Center_point.map(lambda p: p.x)\n",
    "df[\"lat\"] = df.Center_point.map(lambda p: p.y)\n",
    "df"
   ]
  },
  {
   "cell_type": "code",
   "execution_count": 1,
   "metadata": {
    "tags": []
   },
   "outputs": [
    {
     "name": "stdout",
     "output_type": "stream",
     "text": [
      "Runtime=test_cpu is ready!\n"
     ]
    },
    {
     "data": {
      "text/html": [
       "\n",
       "                <div style=\"\n",
       "                    color: #a71d5d;\n",
       "                    background-color: #fdd;\n",
       "                    border: 1px solid #a71d5d;\n",
       "                    padding: 5px;\n",
       "                    border-radius: 5px;\n",
       "                    font-family: Consolas, 'Courier New', monospace;\n",
       "                \">\n",
       "                    <pre><strong>NameError: name 'df' is not defined</strong>\n",
       "                ---------------------------------------------------------------------------\n",
       "NameError                                 Traceback (most recent call last)\n",
       "Cell In[10], line 2\n",
       "      1 ## Calculate N or S\n",
       "----> 2 if 0 < df['lat'][0] < 84:\n",
       "      3     lat_zone='N'\n",
       "      4 elif -84 < df['lat'][0] < 0:\n",
       "\n",
       "NameError: name 'df' is not defined\n",
       "</pre></div>"
      ],
      "text/plain": [
       "<IPython.core.display.HTML object>"
      ]
     },
     "metadata": {},
     "output_type": "display_data"
    }
   ],
   "source": [
    "## Calculate N or S\n",
    "if 0 < df['lat'][0] < 84:\n",
    "    lat_zone='N'\n",
    "elif -84 < df['lat'][0] < 0:\n",
    "    lat_zone='S'\n",
    "\n",
    "## Calculate zone \n",
    "## Applicable for US only\n",
    "\n",
    "if -138 < df['lon'][0] < -132:\n",
    "    zone_value='08'\n",
    "elif -132 < df['lon'][0] < -126:\n",
    "    zone_value='09'\n",
    "elif -126 < df['lon'][0] < -120:\n",
    "    zone_value='10'\n",
    "elif -120 < df['lon'][0] < -114:\n",
    "    zone_value='11'\n",
    "elif -114 < df['lon'][0] < -108:\n",
    "    zone_value='12'\n",
    "elif -108 < df['lon'][0] < -102:\n",
    "    zone_value='13'\n",
    "elif -102 < df['lon'][0] < -96:\n",
    "    zone_value='14'\n",
    "elif -96 < df['lon'][0] < -90:\n",
    "    zone_value='15'\n",
    "elif -90 < df['lon'][0] < -84:\n",
    "    zone_value='16'\n",
    "elif -84 < df['lon'][0] < -78:\n",
    "    zone_value='17'\n",
    "elif -78 < df['lon'][0] < -72:\n",
    "    zone_value='18'\n",
    "elif -72 and df['lon'][0] < -66:\n",
    "    zone_value='19'\n",
    "elif -66 < df['lon'][0] < -60:\n",
    "    zone_value='20'    \n",
    "elif -60 < df['lon'][0] < -54:\n",
    "    zone_value='21'\n",
    "elif -54 < df['lon'][0] < -48:\n",
    "    zone_value='22'      \n",
    "else:\n",
    "    print(\"not in conterminous US\")\n",
    "    \n",
    "crs_string=f'EPSG:326{zone_value}'\n",
    "crs_string"
   ]
  },
  {
   "cell_type": "code",
   "execution_count": 1,
   "metadata": {
    "tags": []
   },
   "outputs": [
    {
     "name": "stdout",
     "output_type": "stream",
     "text": [
      "Runtime=test_cpu is ready!\n"
     ]
    },
    {
     "data": {
      "text/html": [
       "\n",
       "                <div style=\"\n",
       "                    color: #a71d5d;\n",
       "                    background-color: #fdd;\n",
       "                    border: 1px solid #a71d5d;\n",
       "                    padding: 5px;\n",
       "                    border-radius: 5px;\n",
       "                    font-family: Consolas, 'Courier New', monospace;\n",
       "                \">\n",
       "                    <pre><strong>NameError: name 'watershed' is not defined</strong>\n",
       "                ---------------------------------------------------------------------------\n",
       "NameError                                 Traceback (most recent call last)\n",
       "Cell In[11], line 2\n",
       "      1 ## Alternative Method to estimate the CRS\n",
       "----> 2 crs_string2=watershed.estimate_utm_crs(datum_name='WGS 84')\n",
       "      3 crs_string2\n",
       "\n",
       "NameError: name 'watershed' is not defined\n",
       "</pre></div>"
      ],
      "text/plain": [
       "<IPython.core.display.HTML object>"
      ]
     },
     "metadata": {},
     "output_type": "display_data"
    }
   ],
   "source": [
    "## Alternative Method to estimate the CRS\n",
    "crs_string2=watershed.estimate_utm_crs(datum_name='WGS 84')\n",
    "crs_string2"
   ]
  },
  {
   "cell_type": "markdown",
   "metadata": {},
   "source": [
    "## <span style=\"color:green\">Step 3b: Reprojecting watershed shapefile to UTM using calculated zone</span>\n",
    "\n",
    "<ul>\n",
    "<li> Using the string created for EPSG (by calculated zone value), reproject it to PCS  </li>\n",
    "<li> Calculate the zone value (below calculations applciable to conterminous US) </li>"
   ]
  },
  {
   "cell_type": "code",
   "execution_count": 1,
   "metadata": {},
   "outputs": [
    {
     "name": "stdout",
     "output_type": "stream",
     "text": [
      "Runtime=test_cpu is ready!\n",
      "The new directory \u001b[1m'./input_03335500/results_03335500'\u001b[0m is not created as it already exists!\n"
     ]
    },
    {
     "data": {
      "text/html": [
       "\n",
       "                <div style=\"\n",
       "                    color: #a71d5d;\n",
       "                    background-color: #fdd;\n",
       "                    border: 1px solid #a71d5d;\n",
       "                    padding: 5px;\n",
       "                    border-radius: 5px;\n",
       "                    font-family: Consolas, 'Courier New', monospace;\n",
       "                \">\n",
       "                    <pre><strong>DriverError: ./input_03335500/shape_03335500.shp: No such file or directory</strong>\n",
       "                ---------------------------------------------------------------------------\n",
       "CPLE_OpenFailedError                      Traceback (most recent call last)\n",
       "File fiona/ogrext.pyx:136, in fiona.ogrext.gdal_open_vector()\n",
       "\n",
       "File fiona/_err.pyx:291, in fiona._err.exc_wrap_pointer()\n",
       "\n",
       "CPLE_OpenFailedError: ./input_03335500/shape_03335500.shp: No such file or directory\n",
       "\n",
       "During handling of the above exception, another exception occurred:\n",
       "\n",
       "DriverError                               Traceback (most recent call last)\n",
       "Cell In[12], line 6\n",
       "      3 check_create_path_func(folder_results)\n",
       "      5 shapefile_fileloc_filename=f'{folder_input}/shape_{site_id}.shp'\n",
       "----> 6 watershed_file=geopandas.read_file(shapefile_fileloc_filename)\n",
       "      7 watershed_proj=watershed_file.to_crs(crs_string)\n",
       "\n",
       "File /opt/conda/lib/python3.11/site-packages/geopandas/io/file.py:289, in _read_file(filename, bbox, mask, rows, engine, **kwargs)\n",
       "    286     else:\n",
       "    287         path_or_bytes = filename\n",
       "--> 289     return _read_file_fiona(\n",
       "    290         path_or_bytes, from_bytes, bbox=bbox, mask=mask, rows=rows, **kwargs\n",
       "    291     )\n",
       "    293 else:\n",
       "    294     raise ValueError(f\"unknown engine '{engine}'\")\n",
       "\n",
       "File /opt/conda/lib/python3.11/site-packages/geopandas/io/file.py:315, in _read_file_fiona(path_or_bytes, from_bytes, bbox, mask, rows, where, **kwargs)\n",
       "    312     reader = fiona.open\n",
       "    314 with fiona_env():\n",
       "--> 315     with reader(path_or_bytes, **kwargs) as features:\n",
       "    316         crs = features.crs_wkt\n",
       "    317         # attempt to get EPSG code\n",
       "\n",
       "File /opt/conda/lib/python3.11/site-packages/fiona/env.py:457, in ensure_env_with_credentials.<locals>.wrapper(*args, **kwds)\n",
       "    454     session = DummySession()\n",
       "    456 with env_ctor(session=session):\n",
       "--> 457     return f(*args, **kwds)\n",
       "\n",
       "File /opt/conda/lib/python3.11/site-packages/fiona/__init__.py:292, in open(fp, mode, driver, schema, crs, encoding, layer, vfs, enabled_drivers, crs_wkt, allow_unsupported_drivers, **kwargs)\n",
       "    289     path = parse_path(fp)\n",
       "    291 if mode in (\"a\", \"r\"):\n",
       "--> 292     colxn = Collection(\n",
       "    293         path,\n",
       "    294         mode,\n",
       "    295         driver=driver,\n",
       "    296         encoding=encoding,\n",
       "    297         layer=layer,\n",
       "    298         enabled_drivers=enabled_drivers,\n",
       "    299         allow_unsupported_drivers=allow_unsupported_drivers,\n",
       "    300         **kwargs\n",
       "    301     )\n",
       "    302 elif mode == \"w\":\n",
       "    303     colxn = Collection(\n",
       "    304         path,\n",
       "    305         mode,\n",
       "   (...)\n",
       "    314         **kwargs\n",
       "    315     )\n",
       "\n",
       "File /opt/conda/lib/python3.11/site-packages/fiona/collection.py:243, in Collection.__init__(self, path, mode, driver, schema, crs, encoding, layer, vsi, archive, enabled_drivers, crs_wkt, ignore_fields, ignore_geometry, include_fields, wkt_version, allow_unsupported_drivers, **kwargs)\n",
       "    241 if self.mode == \"r\":\n",
       "    242     self.session = Session()\n",
       "--> 243     self.session.start(self, **kwargs)\n",
       "    244 elif self.mode in (\"a\", \"w\"):\n",
       "    245     self.session = WritingSession()\n",
       "\n",
       "File fiona/ogrext.pyx:588, in fiona.ogrext.Session.start()\n",
       "\n",
       "File fiona/ogrext.pyx:143, in fiona.ogrext.gdal_open_vector()\n",
       "\n",
       "DriverError: ./input_03335500/shape_03335500.shp: No such file or directory\n",
       "</pre></div>"
      ],
      "text/plain": [
       "<IPython.core.display.HTML object>"
      ]
     },
     "metadata": {},
     "output_type": "display_data"
    }
   ],
   "source": [
    "folder_results=f'{folder_input}/results_{site_id}'\n",
    "#folder_results=f'C:/temp/JibinJoseph/GDAL_operations/results_{site_id}'\n",
    "check_create_path_func(folder_results)\n",
    "\n",
    "shapefile_fileloc_filename=f'{folder_input}/shape_{site_id}.shp'\n",
    "watershed_file=geopandas.read_file(shapefile_fileloc_filename)\n",
    "watershed_proj=watershed_file.to_crs(crs_string)"
   ]
  },
  {
   "cell_type": "code",
   "execution_count": 1,
   "metadata": {
    "tags": []
   },
   "outputs": [
    {
     "name": "stdout",
     "output_type": "stream",
     "text": [
      "Runtime=test_cpu is ready!\n"
     ]
    },
    {
     "data": {
      "text/html": [
       "\n",
       "                <div style=\"\n",
       "                    color: #a71d5d;\n",
       "                    background-color: #fdd;\n",
       "                    border: 1px solid #a71d5d;\n",
       "                    padding: 5px;\n",
       "                    border-radius: 5px;\n",
       "                    font-family: Consolas, 'Courier New', monospace;\n",
       "                \">\n",
       "                    <pre><strong>NameError: name 'watershed_file' is not defined</strong>\n",
       "                ---------------------------------------------------------------------------\n",
       "NameError                                 Traceback (most recent call last)\n",
       "Cell In[13], line 1\n",
       "----> 1 print(watershed_file.crs)\n",
       "      2 print(watershed_proj.crs)\n",
       "      3 print(type(watershed_file))\n",
       "\n",
       "NameError: name 'watershed_file' is not defined\n",
       "</pre></div>"
      ],
      "text/plain": [
       "<IPython.core.display.HTML object>"
      ]
     },
     "metadata": {},
     "output_type": "display_data"
    }
   ],
   "source": [
    "print(watershed_file.crs)\n",
    "print(watershed_proj.crs)\n",
    "print(type(watershed_file))\n",
    "print(type(watershed_proj))"
   ]
  },
  {
   "cell_type": "code",
   "execution_count": 1,
   "metadata": {
    "tags": []
   },
   "outputs": [
    {
     "name": "stdout",
     "output_type": "stream",
     "text": [
      "Runtime=test_cpu is ready!\n",
      "./input_03335500/results_03335500/proj_shp_03335500.shp\n"
     ]
    },
    {
     "data": {
      "text/html": [
       "\n",
       "                <div style=\"\n",
       "                    color: #a71d5d;\n",
       "                    background-color: #fdd;\n",
       "                    border: 1px solid #a71d5d;\n",
       "                    padding: 5px;\n",
       "                    border-radius: 5px;\n",
       "                    font-family: Consolas, 'Courier New', monospace;\n",
       "                \">\n",
       "                    <pre><strong>NameError: name 'watershed_proj' is not defined</strong>\n",
       "                ---------------------------------------------------------------------------\n",
       "NameError                                 Traceback (most recent call last)\n",
       "Cell In[14], line 3\n",
       "      1 proj_shapefile_filename=f'{folder_results}/proj_shp_{site_id}.shp'\n",
       "      2 print(proj_shapefile_filename)\n",
       "----> 3 watershed_proj.to_file(proj_shapefile_filename, driver='ESRI Shapefile',mode='w')\n",
       "\n",
       "NameError: name 'watershed_proj' is not defined\n",
       "</pre></div>"
      ],
      "text/plain": [
       "<IPython.core.display.HTML object>"
      ]
     },
     "metadata": {},
     "output_type": "display_data"
    }
   ],
   "source": [
    "proj_shapefile_filename=f'{folder_results}/proj_shp_{site_id}.shp'\n",
    "print(proj_shapefile_filename)\n",
    "watershed_proj.to_file(proj_shapefile_filename, driver='ESRI Shapefile',mode='w')"
   ]
  },
  {
   "cell_type": "markdown",
   "metadata": {},
   "source": [
    "## <span style=\"color:green\">Step 3c: Reprojecting merged raster to UTM using calculated zone</span>\n",
    "\n",
    "<ul>\n",
    "<li> Using the string created for EPSG (by calculated zone value), reproject it to PCS  </li>\n",
    "<li> Calculate the zone value (below calculations applciable to conterminous US) </li>"
   ]
  },
  {
   "cell_type": "code",
   "execution_count": 1,
   "metadata": {
    "tags": []
   },
   "outputs": [
    {
     "name": "stdout",
     "output_type": "stream",
     "text": [
      "Runtime=test_cpu is ready!\n"
     ]
    },
    {
     "data": {
      "text/html": [
       "\n",
       "                <div style=\"\n",
       "                    color: #a71d5d;\n",
       "                    background-color: #fdd;\n",
       "                    border: 1px solid #a71d5d;\n",
       "                    padding: 5px;\n",
       "                    border-radius: 5px;\n",
       "                    font-family: Consolas, 'Courier New', monospace;\n",
       "                \">\n",
       "                    <pre><strong>NameError: name 'merged_raster_filename' is not defined</strong>\n",
       "                ---------------------------------------------------------------------------\n",
       "NameError                                 Traceback (most recent call last)\n",
       "Cell In[15], line 35\n",
       "     32 ## WRITE CODE BELOW\n",
       "     34 reprojected_raster_filename=f'{folder_intermediate}/reprojected_{resolution}_{site_id}.tif'\n",
       "---> 35 print(merged_raster_filename,\"\\n\",reprojected_raster_filename)\n",
       "     36 reproject_raster_func(merged_raster_filename, reprojected_raster_filename, crs_string)\n",
       "\n",
       "NameError: name 'merged_raster_filename' is not defined\n",
       "</pre></div>"
      ],
      "text/plain": [
       "<IPython.core.display.HTML object>"
      ]
     },
     "metadata": {},
     "output_type": "display_data"
    }
   ],
   "source": [
    "def reproject_raster_func(input_raster, output_raster, target_crs):\n",
    "    # Load the input DEM\n",
    "    with rasterio.open(input_raster) as src:\n",
    "        # Define the target CRS\n",
    "        target_crs_proj = pyproj.CRS.from_string(target_crs)\n",
    "        # Calculate the transformation and new dimensions\n",
    "        transform, width, height = calculate_default_transform(src.crs, target_crs_proj, src.width, src.height, *src.bounds)\n",
    "        # Update metadata for the new dataset\n",
    "        kwargs = src.meta.copy()\n",
    "        kwargs.update({\n",
    "            'crs': target_crs_proj,\n",
    "            'transform': transform,\n",
    "            'width': width,\n",
    "            'height': height\n",
    "        })\n",
    "        # Create the output dataset and perform the reprojection\n",
    "        print(src)\n",
    "        with rasterio.open(output_raster, 'w', **kwargs) as dst:\n",
    "            for i in range(1, src.count + 1):\n",
    "                print(rasterio.band(src, i))\n",
    "                reproject(\n",
    "                    source=rasterio.band(src, i),\n",
    "                    #source=src.read,\n",
    "                    destination=rasterio.band(dst, i),\n",
    "                    #destination=dst,\n",
    "                    src_transform=src.transform,\n",
    "                    src_crs=src.crs,\n",
    "                    dst_transform=transform,\n",
    "                    dst_crs=target_crs_proj,\n",
    "                    resampling=Resampling.nearest)\n",
    "        print(\"Reprojection complete.\")\n",
    "## WRITE CODE BELOW\n",
    "\n",
    "reprojected_raster_filename=f'{folder_intermediate}/reprojected_{resolution}_{site_id}.tif'\n",
    "print(merged_raster_filename,\"\\n\",reprojected_raster_filename)\n",
    "reproject_raster_func(merged_raster_filename, reprojected_raster_filename, crs_string)"
   ]
  },
  {
   "cell_type": "code",
   "execution_count": 1,
   "metadata": {
    "tags": []
   },
   "outputs": [
    {
     "name": "stdout",
     "output_type": "stream",
     "text": [
      "Runtime=test_cpu is ready!\n"
     ]
    },
    {
     "data": {
      "text/html": [
       "\n",
       "                <div style=\"\n",
       "                    color: #a71d5d;\n",
       "                    background-color: #fdd;\n",
       "                    border: 1px solid #a71d5d;\n",
       "                    padding: 5px;\n",
       "                    border-radius: 5px;\n",
       "                    font-family: Consolas, 'Courier New', monospace;\n",
       "                \">\n",
       "                    <pre><strong>RasterioIOError: ./input_03335500/intermediate_03335500/reprojected_1_03335500.tif: No such file or directory</strong>\n",
       "                ---------------------------------------------------------------------------\n",
       "CPLE_OpenFailedError                      Traceback (most recent call last)\n",
       "File rasterio/_base.pyx:310, in rasterio._base.DatasetBase.__init__()\n",
       "\n",
       "File rasterio/_base.pyx:221, in rasterio._base.open_dataset()\n",
       "\n",
       "File rasterio/_err.pyx:221, in rasterio._err.exc_wrap_pointer()\n",
       "\n",
       "CPLE_OpenFailedError: ./input_03335500/intermediate_03335500/reprojected_1_03335500.tif: No such file or directory\n",
       "\n",
       "During handling of the above exception, another exception occurred:\n",
       "\n",
       "RasterioIOError                           Traceback (most recent call last)\n",
       "Cell In[16], line 2\n",
       "      1 reprojected_raster_filename=f'{folder_intermediate}/reprojected_{resolution}_{site_id}.tif'\n",
       "----> 2 with rasterio.open(reprojected_raster_filename) as src:\n",
       "      3     fig, ax = plt.subplots(figsize = (8,8))\n",
       "      4     mapped=rasterio.plot.show(src,\n",
       "      5                               ax=ax, \n",
       "      6                               cmap='viridis')\n",
       "\n",
       "File /opt/conda/lib/python3.11/site-packages/rasterio/env.py:451, in ensure_env_with_credentials.<locals>.wrapper(*args, **kwds)\n",
       "    448     session = DummySession()\n",
       "    450 with env_ctor(session=session):\n",
       "--> 451     return f(*args, **kwds)\n",
       "\n",
       "File /opt/conda/lib/python3.11/site-packages/rasterio/__init__.py:304, in open(fp, mode, driver, width, height, count, crs, transform, dtype, nodata, sharing, **kwargs)\n",
       "    301 path = _parse_path(raw_dataset_path)\n",
       "    303 if mode == \"r\":\n",
       "--> 304     dataset = DatasetReader(path, driver=driver, sharing=sharing, **kwargs)\n",
       "    305 elif mode == \"r+\":\n",
       "    306     dataset = get_writer_for_path(path, driver=driver)(\n",
       "    307         path, mode, driver=driver, sharing=sharing, **kwargs\n",
       "    308     )\n",
       "\n",
       "File rasterio/_base.pyx:312, in rasterio._base.DatasetBase.__init__()\n",
       "\n",
       "RasterioIOError: ./input_03335500/intermediate_03335500/reprojected_1_03335500.tif: No such file or directory\n",
       "</pre></div>"
      ],
      "text/plain": [
       "<IPython.core.display.HTML object>"
      ]
     },
     "metadata": {},
     "output_type": "display_data"
    }
   ],
   "source": [
    "reprojected_raster_filename=f'{folder_intermediate}/reprojected_{resolution}_{site_id}.tif'\n",
    "with rasterio.open(reprojected_raster_filename) as src:\n",
    "    fig, ax = plt.subplots(figsize = (8,8))\n",
    "    mapped=rasterio.plot.show(src,\n",
    "                              ax=ax, \n",
    "                              cmap='viridis')\n",
    "    im = mapped.get_images()[0]\n",
    "    fig.colorbar(im,\n",
    "                 ax=ax,\n",
    "                 shrink=0.5,\n",
    "                 label='Elevation (in meters)',\n",
    "                 location='right',\n",
    "                 orientation='vertical')\n",
    "    ax.set_xlabel(\"Easting (meters)\")\n",
    "    ax.set_ylabel(\"Northing (meters)\")\n",
    "    ax.set_title(f\"Reprojected Raster DEM in {watershed_proj.crs} Projected CRS\\n(for USGS {site_id})\")\n",
    "\n",
    "## Uee the reprojected watershed shapefile\n",
    "watershed_proj.plot(ax=ax, \n",
    "           facecolor='none', \n",
    "           edgecolor='red')\n",
    "src.close()\n",
    "\n",
    "del mapped,im\n",
    "del fig,ax"
   ]
  },
  {
   "cell_type": "markdown",
   "metadata": {},
   "source": [
    "## <span style=\"color:green\">Step 4: Clipping the reprojected raster file using watershed shapefile</span>\n",
    "\n",
    "<ul>\n",
    "<li> Using the string created for EPSG (by calculated zone value), reproject it to PCS  </li>\n",
    "<li> Calculate the zone value (below calculations applciable to conterminous US) </li>"
   ]
  },
  {
   "cell_type": "code",
   "execution_count": 1,
   "metadata": {
    "tags": []
   },
   "outputs": [
    {
     "name": "stdout",
     "output_type": "stream",
     "text": [
      "Runtime=test_cpu is ready!\n"
     ]
    },
    {
     "data": {
      "text/html": [
       "\n",
       "                <div style=\"\n",
       "                    color: #a71d5d;\n",
       "                    background-color: #fdd;\n",
       "                    border: 1px solid #a71d5d;\n",
       "                    padding: 5px;\n",
       "                    border-radius: 5px;\n",
       "                    font-family: Consolas, 'Courier New', monospace;\n",
       "                \">\n",
       "                    <pre><strong>DriverError: ./input_03335500/results_03335500/proj_shp_03335500.shp: No such file or directory</strong>\n",
       "                ---------------------------------------------------------------------------\n",
       "CPLE_OpenFailedError                      Traceback (most recent call last)\n",
       "File fiona/ogrext.pyx:136, in fiona.ogrext.gdal_open_vector()\n",
       "\n",
       "File fiona/_err.pyx:291, in fiona._err.exc_wrap_pointer()\n",
       "\n",
       "CPLE_OpenFailedError: ./input_03335500/results_03335500/proj_shp_03335500.shp: No such file or directory\n",
       "\n",
       "During handling of the above exception, another exception occurred:\n",
       "\n",
       "DriverError                               Traceback (most recent call last)\n",
       "Cell In[17], line 30\n",
       "     27 buffer_value_in_meters=1500\n",
       "     29 clipped_raster_filename=f'{folder_results}/clipped_{resolution}_{site_id}.tif'\n",
       "---> 30 clip_raster_with_shapefile_func(reprojected_raster_filename,\n",
       "     31                                 clipped_raster_filename,\n",
       "     32                                 proj_shapefile_filename,\n",
       "     33                                 buffer_value_in_meters)\n",
       "\n",
       "Cell In[17], line 5, in clip_raster_with_shapefile_func(input_raster, output_raster, shapefile, buffer_value)\n",
       "      3 def clip_raster_with_shapefile_func(input_raster, output_raster, shapefile,buffer_value):\n",
       "      4     ## Open the shapefile using geopandas\n",
       "----> 5     shapefile_gdf = geopandas.read_file(shapefile).buffer(buffer_value)\n",
       "      6     ## Open the input raster\n",
       "      7     with rasterio.open(input_raster) as src:\n",
       "      8         ## Convert the shapefile geometry to the same CRS as the raster\n",
       "\n",
       "File /opt/conda/lib/python3.11/site-packages/geopandas/io/file.py:289, in _read_file(filename, bbox, mask, rows, engine, **kwargs)\n",
       "    286     else:\n",
       "    287         path_or_bytes = filename\n",
       "--> 289     return _read_file_fiona(\n",
       "    290         path_or_bytes, from_bytes, bbox=bbox, mask=mask, rows=rows, **kwargs\n",
       "    291     )\n",
       "    293 else:\n",
       "    294     raise ValueError(f\"unknown engine '{engine}'\")\n",
       "\n",
       "File /opt/conda/lib/python3.11/site-packages/geopandas/io/file.py:315, in _read_file_fiona(path_or_bytes, from_bytes, bbox, mask, rows, where, **kwargs)\n",
       "    312     reader = fiona.open\n",
       "    314 with fiona_env():\n",
       "--> 315     with reader(path_or_bytes, **kwargs) as features:\n",
       "    316         crs = features.crs_wkt\n",
       "    317         # attempt to get EPSG code\n",
       "\n",
       "File /opt/conda/lib/python3.11/site-packages/fiona/env.py:457, in ensure_env_with_credentials.<locals>.wrapper(*args, **kwds)\n",
       "    454     session = DummySession()\n",
       "    456 with env_ctor(session=session):\n",
       "--> 457     return f(*args, **kwds)\n",
       "\n",
       "File /opt/conda/lib/python3.11/site-packages/fiona/__init__.py:292, in open(fp, mode, driver, schema, crs, encoding, layer, vfs, enabled_drivers, crs_wkt, allow_unsupported_drivers, **kwargs)\n",
       "    289     path = parse_path(fp)\n",
       "    291 if mode in (\"a\", \"r\"):\n",
       "--> 292     colxn = Collection(\n",
       "    293         path,\n",
       "    294         mode,\n",
       "    295         driver=driver,\n",
       "    296         encoding=encoding,\n",
       "    297         layer=layer,\n",
       "    298         enabled_drivers=enabled_drivers,\n",
       "    299         allow_unsupported_drivers=allow_unsupported_drivers,\n",
       "    300         **kwargs\n",
       "    301     )\n",
       "    302 elif mode == \"w\":\n",
       "    303     colxn = Collection(\n",
       "    304         path,\n",
       "    305         mode,\n",
       "   (...)\n",
       "    314         **kwargs\n",
       "    315     )\n",
       "\n",
       "File /opt/conda/lib/python3.11/site-packages/fiona/collection.py:243, in Collection.__init__(self, path, mode, driver, schema, crs, encoding, layer, vsi, archive, enabled_drivers, crs_wkt, ignore_fields, ignore_geometry, include_fields, wkt_version, allow_unsupported_drivers, **kwargs)\n",
       "    241 if self.mode == \"r\":\n",
       "    242     self.session = Session()\n",
       "--> 243     self.session.start(self, **kwargs)\n",
       "    244 elif self.mode in (\"a\", \"w\"):\n",
       "    245     self.session = WritingSession()\n",
       "\n",
       "File fiona/ogrext.pyx:588, in fiona.ogrext.Session.start()\n",
       "\n",
       "File fiona/ogrext.pyx:143, in fiona.ogrext.gdal_open_vector()\n",
       "\n",
       "DriverError: ./input_03335500/results_03335500/proj_shp_03335500.shp: No such file or directory\n",
       "</pre></div>"
      ],
      "text/plain": [
       "<IPython.core.display.HTML object>"
      ]
     },
     "metadata": {},
     "output_type": "display_data"
    }
   ],
   "source": [
    "proj_shapefile_filename=f'{folder_results}/proj_shp_{site_id}.shp'\n",
    "\n",
    "def clip_raster_with_shapefile_func(input_raster, output_raster, shapefile,buffer_value):\n",
    "    ## Open the shapefile using geopandas\n",
    "    shapefile_gdf = geopandas.read_file(shapefile).buffer(buffer_value)\n",
    "    ## Open the input raster\n",
    "    with rasterio.open(input_raster) as src:\n",
    "        ## Convert the shapefile geometry to the same CRS as the raster\n",
    "        shapefile_gdf = shapefile_gdf.to_crs(src.crs)\n",
    "        ## Convert the shapefile geometry to GeoJSON-like format\n",
    "        geoms = [mapping(geom) for geom in shapefile_gdf.geometry]\n",
    "        ## Clip the raster using the shapefile geometry\n",
    "        clipped, out_transform = mask(src, geoms, crop=True)\n",
    "        ## Update metadata for the new dataset\n",
    "        out_meta = src.meta.copy()\n",
    "        out_meta.update({\n",
    "            'height': clipped.shape[1],\n",
    "            'width': clipped.shape[2],\n",
    "            'transform': out_transform\n",
    "        })\n",
    "        ## Write the clipped raster to the output file\n",
    "        with rasterio.open(output_raster, 'w', **out_meta) as dst:\n",
    "            dst.write(clipped)\n",
    "    print(\"Raster clipping complete.\")\n",
    "## WRITE THE CODE BELOW    \n",
    "\n",
    "buffer_value_in_meters=1500\n",
    "\n",
    "clipped_raster_filename=f'{folder_results}/clipped_{resolution}_{site_id}.tif'\n",
    "clip_raster_with_shapefile_func(reprojected_raster_filename,\n",
    "                                clipped_raster_filename,\n",
    "                                proj_shapefile_filename,\n",
    "                                buffer_value_in_meters)"
   ]
  },
  {
   "cell_type": "code",
   "execution_count": 1,
   "metadata": {},
   "outputs": [
    {
     "name": "stdout",
     "output_type": "stream",
     "text": [
      "Runtime=test_cpu is ready!\n"
     ]
    },
    {
     "data": {
      "text/html": [
       "\n",
       "                <div style=\"\n",
       "                    color: #a71d5d;\n",
       "                    background-color: #fdd;\n",
       "                    border: 1px solid #a71d5d;\n",
       "                    padding: 5px;\n",
       "                    border-radius: 5px;\n",
       "                    font-family: Consolas, 'Courier New', monospace;\n",
       "                \">\n",
       "                    <pre><strong>RasterioIOError: ./input_03335500/results_03335500/clipped_1_03335500.tif: No such file or directory</strong>\n",
       "                ---------------------------------------------------------------------------\n",
       "CPLE_OpenFailedError                      Traceback (most recent call last)\n",
       "File rasterio/_base.pyx:310, in rasterio._base.DatasetBase.__init__()\n",
       "\n",
       "File rasterio/_base.pyx:221, in rasterio._base.open_dataset()\n",
       "\n",
       "File rasterio/_err.pyx:221, in rasterio._err.exc_wrap_pointer()\n",
       "\n",
       "CPLE_OpenFailedError: ./input_03335500/results_03335500/clipped_1_03335500.tif: No such file or directory\n",
       "\n",
       "During handling of the above exception, another exception occurred:\n",
       "\n",
       "RasterioIOError                           Traceback (most recent call last)\n",
       "Cell In[18], line 1\n",
       "----> 1 with rasterio.open(clipped_raster_filename) as src1:\n",
       "      2     fig, ax = plt.subplots(figsize = (8,8))\n",
       "      3     mapped=rasterio.plot.show(src1,\n",
       "      4                               ax=ax, \n",
       "      5                               cmap='viridis')\n",
       "\n",
       "File /opt/conda/lib/python3.11/site-packages/rasterio/env.py:451, in ensure_env_with_credentials.<locals>.wrapper(*args, **kwds)\n",
       "    448     session = DummySession()\n",
       "    450 with env_ctor(session=session):\n",
       "--> 451     return f(*args, **kwds)\n",
       "\n",
       "File /opt/conda/lib/python3.11/site-packages/rasterio/__init__.py:304, in open(fp, mode, driver, width, height, count, crs, transform, dtype, nodata, sharing, **kwargs)\n",
       "    301 path = _parse_path(raw_dataset_path)\n",
       "    303 if mode == \"r\":\n",
       "--> 304     dataset = DatasetReader(path, driver=driver, sharing=sharing, **kwargs)\n",
       "    305 elif mode == \"r+\":\n",
       "    306     dataset = get_writer_for_path(path, driver=driver)(\n",
       "    307         path, mode, driver=driver, sharing=sharing, **kwargs\n",
       "    308     )\n",
       "\n",
       "File rasterio/_base.pyx:312, in rasterio._base.DatasetBase.__init__()\n",
       "\n",
       "RasterioIOError: ./input_03335500/results_03335500/clipped_1_03335500.tif: No such file or directory\n",
       "</pre></div>"
      ],
      "text/plain": [
       "<IPython.core.display.HTML object>"
      ]
     },
     "metadata": {},
     "output_type": "display_data"
    }
   ],
   "source": [
    "with rasterio.open(clipped_raster_filename) as src1:\n",
    "    fig, ax = plt.subplots(figsize = (8,8))\n",
    "    mapped=rasterio.plot.show(src1,\n",
    "                              ax=ax, \n",
    "                              cmap='viridis')\n",
    "    im = mapped.get_images()[0]\n",
    "    fig.colorbar(im,\n",
    "                 ax=ax,\n",
    "                 shrink=0.5,\n",
    "                 label='Elevation (in meters)',\n",
    "                 location='right',\n",
    "                 orientation='vertical')\n",
    "    ax.set_xlabel(\"Easting (meters)\")\n",
    "    ax.set_ylabel(\"Northing (meters)\")\n",
    "    ax.set_title(f\"Clipped Raster DEM with a buffer of {buffer_value_in_meters} m and {watershed_proj.crs} Projected CRS\\n(for USGS {site_id})\")\n",
    "\n",
    "## Uee the reprojected watershed shapefile\n",
    "watershed_proj.plot(ax=ax, \n",
    "           facecolor='none', \n",
    "           edgecolor='red')\n",
    "src.close()"
   ]
  }
 ],
 "metadata": {
  "kernelspec": {
   "display_name": "airavata_examples",
   "language": "python",
   "name": "python3"
  },
  "language_info": {
   "codemirror_mode": {
    "name": "ipython",
    "version": 3
   },
   "file_extension": ".py",
   "mimetype": "text/x-python",
   "name": "python",
   "nbconvert_exporter": "python",
   "pygments_lexer": "ipython3",
   "version": "3.10.16"
  }
 },
 "nbformat": 4,
 "nbformat_minor": 4
}
